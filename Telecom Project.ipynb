{
 "cells": [
  {
   "cell_type": "code",
   "execution_count": 1,
   "id": "1da04ac5-953e-44f0-9597-18aee56b41e8",
   "metadata": {},
   "outputs": [],
   "source": [
    "import seaborn as sns\n",
    "import numpy as np\n",
    "import pandas as pd \n",
    "import ctgan\n",
    "from scipy.stats import normaltest\n",
    "import statsmodels.api as sm\n",
    "import matplotlib.pyplot as plt\n",
    "from sklearn.metrics import mean_squared_error\n",
    "import math\n",
    "from sklearn.linear_model import LinearRegression\n",
    "from sklearn.model_selection import GridSearchCV, train_test_split\n",
    "from sklearn.metrics import mean_squared_error, r2_score\n",
    "import xgboost as xgb\n",
    "import pickle\n",
    "from scipy.stats import shapiro\n",
    "from sdv.tabular import CTGAN\n",
    "from sklearn.metrics import make_scorer, mean_squared_error\n",
    "from sklearn.preprocessing import LabelEncoder\n",
    "from sklearn import preprocessing\n",
    "from sklearn.preprocessing import OneHotEncoder\n",
    "from sklearn.metrics import accuracy_score\n",
    "from lazypredict.Supervised import LazyClassifier\n",
    "from sklearn.metrics import accuracy_score, precision_score, recall_score\n",
    "from sklearn.model_selection import train_test_split\n",
    "from sklearn.preprocessing import StandardScaler\n",
    "from keras.models import Sequential\n",
    "from keras.layers import Dense\n",
    "from sklearn.preprocessing import StandardScaler\n",
    "from sklearn.decomposition import PCA\n",
    "from sklearn.ensemble import RandomForestClassifier\n",
    "from sklearn.preprocessing import LabelEncoder\n",
    "from tensorflow import keras\n",
    "from sklearn.preprocessing import MinMaxScaler\n",
    "from tensorflow.keras.models import Sequential\n",
    "from tensorflow.keras.layers import Dense\n",
    "from sklearn.metrics import r2_score\n",
    "from sklearn.ensemble import BaggingRegressor\n",
    "from sklearn.tree import DecisionTreeRegressor\n",
    "from sklearn.datasets import make_regression\n",
    "from sklearn.model_selection import train_test_split\n",
    "from sklearn.metrics import mean_squared_error\n",
    "from sklearn.metrics import classification_report\n",
    "from sklearn.pipeline import Pipeline\n",
    "from sklearn.preprocessing import StandardScaler\n",
    "from sklearn.metrics import accuracy_score\n",
    "from sklearn.neighbors import KNeighborsClassifier\n",
    "from sklearn.preprocessing import StandardScaler\n",
    "from sklearn.metrics import precision_recall_fscore_support as score\n",
    "from sklearn.metrics import accuracy_score, confusion_matrix, mean_squared_error\n",
    "from sklearn.model_selection import GridSearchCV, train_test_split\n",
    "from sklearn.metrics import accuracy_score, precision_score, recall_score,\\\n",
    "f1_score, confusion_matrix, ConfusionMatrixDisplay, classification_report\n",
    "from sklearn.metrics import roc_auc_score, roc_curve\n",
    "from sklearn.tree import plot_tree\n",
    "from sklearn.tree import DecisionTreeClassifier\n"
   ]
  },
  {
   "cell_type": "markdown",
   "id": "7230e986-1e31-4a89-998d-c73d87829cee",
   "metadata": {},
   "source": [
    "## Veri Okuma ##"
   ]
  },
  {
   "cell_type": "code",
   "execution_count": 2,
   "id": "e0aa5419-5a4d-4d71-873f-88decbdbd28d",
   "metadata": {},
   "outputs": [],
   "source": [
    "churn_data = df = pd.read_excel(\"churn_data.xlsx\")"
   ]
  },
  {
   "cell_type": "code",
   "execution_count": 3,
   "id": "537327c4-08a5-4087-899d-a0e83fab2380",
   "metadata": {},
   "outputs": [
    {
     "data": {
      "text/html": [
       "<div>\n",
       "<style scoped>\n",
       "    .dataframe tbody tr th:only-of-type {\n",
       "        vertical-align: middle;\n",
       "    }\n",
       "\n",
       "    .dataframe tbody tr th {\n",
       "        vertical-align: top;\n",
       "    }\n",
       "\n",
       "    .dataframe thead th {\n",
       "        text-align: right;\n",
       "    }\n",
       "</style>\n",
       "<table border=\"1\" class=\"dataframe\">\n",
       "  <thead>\n",
       "    <tr style=\"text-align: right;\">\n",
       "      <th></th>\n",
       "      <th>customerID</th>\n",
       "      <th>tenure</th>\n",
       "      <th>PhoneService</th>\n",
       "      <th>Contract</th>\n",
       "      <th>PaperlessBilling</th>\n",
       "      <th>PaymentMethod</th>\n",
       "      <th>MonthlyCharges</th>\n",
       "      <th>TotalCharges</th>\n",
       "      <th>Churn</th>\n",
       "    </tr>\n",
       "  </thead>\n",
       "  <tbody>\n",
       "    <tr>\n",
       "      <th>0</th>\n",
       "      <td>7590-VHVEG</td>\n",
       "      <td>1</td>\n",
       "      <td>No</td>\n",
       "      <td>Month-to-month</td>\n",
       "      <td>Yes</td>\n",
       "      <td>Electronic check</td>\n",
       "      <td>29.85</td>\n",
       "      <td>29.85</td>\n",
       "      <td>No</td>\n",
       "    </tr>\n",
       "    <tr>\n",
       "      <th>1</th>\n",
       "      <td>5575-GNVDE</td>\n",
       "      <td>34</td>\n",
       "      <td>Yes</td>\n",
       "      <td>One year</td>\n",
       "      <td>No</td>\n",
       "      <td>Mailed check</td>\n",
       "      <td>56.95</td>\n",
       "      <td>1889.50</td>\n",
       "      <td>No</td>\n",
       "    </tr>\n",
       "    <tr>\n",
       "      <th>2</th>\n",
       "      <td>3668-QPYBK</td>\n",
       "      <td>2</td>\n",
       "      <td>Yes</td>\n",
       "      <td>Month-to-month</td>\n",
       "      <td>Yes</td>\n",
       "      <td>Mailed check</td>\n",
       "      <td>53.85</td>\n",
       "      <td>108.15</td>\n",
       "      <td>Yes</td>\n",
       "    </tr>\n",
       "    <tr>\n",
       "      <th>3</th>\n",
       "      <td>7795-CFOCW</td>\n",
       "      <td>45</td>\n",
       "      <td>No</td>\n",
       "      <td>One year</td>\n",
       "      <td>No</td>\n",
       "      <td>Bank transfer (automatic)</td>\n",
       "      <td>42.30</td>\n",
       "      <td>1840.75</td>\n",
       "      <td>No</td>\n",
       "    </tr>\n",
       "    <tr>\n",
       "      <th>4</th>\n",
       "      <td>9237-HQITU</td>\n",
       "      <td>2</td>\n",
       "      <td>Yes</td>\n",
       "      <td>Month-to-month</td>\n",
       "      <td>Yes</td>\n",
       "      <td>Electronic check</td>\n",
       "      <td>70.70</td>\n",
       "      <td>151.65</td>\n",
       "      <td>Yes</td>\n",
       "    </tr>\n",
       "  </tbody>\n",
       "</table>\n",
       "</div>"
      ],
      "text/plain": [
       "   customerID  tenure PhoneService        Contract PaperlessBilling  \\\n",
       "0  7590-VHVEG       1           No  Month-to-month              Yes   \n",
       "1  5575-GNVDE      34          Yes        One year               No   \n",
       "2  3668-QPYBK       2          Yes  Month-to-month              Yes   \n",
       "3  7795-CFOCW      45           No        One year               No   \n",
       "4  9237-HQITU       2          Yes  Month-to-month              Yes   \n",
       "\n",
       "               PaymentMethod  MonthlyCharges  TotalCharges Churn  \n",
       "0           Electronic check           29.85         29.85    No  \n",
       "1               Mailed check           56.95       1889.50    No  \n",
       "2               Mailed check           53.85        108.15   Yes  \n",
       "3  Bank transfer (automatic)           42.30       1840.75    No  \n",
       "4           Electronic check           70.70        151.65   Yes  "
      ]
     },
     "execution_count": 3,
     "metadata": {},
     "output_type": "execute_result"
    }
   ],
   "source": [
    "churn_data.head(5)"
   ]
  },
  {
   "cell_type": "code",
   "execution_count": 4,
   "id": "da9062b7-b663-4856-b1ed-b2c3c4c65bf0",
   "metadata": {},
   "outputs": [],
   "source": [
    "customer_data = df = pd.read_excel(\"customer_data.xlsx\")"
   ]
  },
  {
   "cell_type": "code",
   "execution_count": 416,
   "id": "c4b53a72-73a1-4b56-904d-a5da17e8ce29",
   "metadata": {},
   "outputs": [
    {
     "data": {
      "text/html": [
       "<div>\n",
       "<style scoped>\n",
       "    .dataframe tbody tr th:only-of-type {\n",
       "        vertical-align: middle;\n",
       "    }\n",
       "\n",
       "    .dataframe tbody tr th {\n",
       "        vertical-align: top;\n",
       "    }\n",
       "\n",
       "    .dataframe thead th {\n",
       "        text-align: right;\n",
       "    }\n",
       "</style>\n",
       "<table border=\"1\" class=\"dataframe\">\n",
       "  <thead>\n",
       "    <tr style=\"text-align: right;\">\n",
       "      <th></th>\n",
       "      <th>customerID</th>\n",
       "      <th>gender</th>\n",
       "      <th>SeniorCitizen</th>\n",
       "      <th>Partner</th>\n",
       "      <th>Dependents</th>\n",
       "    </tr>\n",
       "  </thead>\n",
       "  <tbody>\n",
       "    <tr>\n",
       "      <th>0</th>\n",
       "      <td>7590-VHVEG</td>\n",
       "      <td>Female</td>\n",
       "      <td>0</td>\n",
       "      <td>Yes</td>\n",
       "      <td>No</td>\n",
       "    </tr>\n",
       "    <tr>\n",
       "      <th>1</th>\n",
       "      <td>5575-GNVDE</td>\n",
       "      <td>Male</td>\n",
       "      <td>0</td>\n",
       "      <td>No</td>\n",
       "      <td>No</td>\n",
       "    </tr>\n",
       "    <tr>\n",
       "      <th>2</th>\n",
       "      <td>3668-QPYBK</td>\n",
       "      <td>Male</td>\n",
       "      <td>0</td>\n",
       "      <td>No</td>\n",
       "      <td>No</td>\n",
       "    </tr>\n",
       "    <tr>\n",
       "      <th>3</th>\n",
       "      <td>7795-CFOCW</td>\n",
       "      <td>Male</td>\n",
       "      <td>0</td>\n",
       "      <td>No</td>\n",
       "      <td>No</td>\n",
       "    </tr>\n",
       "    <tr>\n",
       "      <th>4</th>\n",
       "      <td>9237-HQITU</td>\n",
       "      <td>Female</td>\n",
       "      <td>0</td>\n",
       "      <td>No</td>\n",
       "      <td>No</td>\n",
       "    </tr>\n",
       "  </tbody>\n",
       "</table>\n",
       "</div>"
      ],
      "text/plain": [
       "   customerID  gender  SeniorCitizen Partner Dependents\n",
       "0  7590-VHVEG  Female              0     Yes         No\n",
       "1  5575-GNVDE    Male              0      No         No\n",
       "2  3668-QPYBK    Male              0      No         No\n",
       "3  7795-CFOCW    Male              0      No         No\n",
       "4  9237-HQITU  Female              0      No         No"
      ]
     },
     "execution_count": 416,
     "metadata": {},
     "output_type": "execute_result"
    }
   ],
   "source": [
    "customer_data.head(5)"
   ]
  },
  {
   "cell_type": "code",
   "execution_count": 5,
   "id": "1f688166-2631-4d6b-8b85-35c3490f5dde",
   "metadata": {},
   "outputs": [],
   "source": [
    "internet_data = df = pd.read_excel(\"internet_data.xlsx\")"
   ]
  },
  {
   "cell_type": "code",
   "execution_count": 417,
   "id": "bf2ddeb4-ab3a-4fd1-b64f-33c4aac8555e",
   "metadata": {},
   "outputs": [
    {
     "data": {
      "text/html": [
       "<div>\n",
       "<style scoped>\n",
       "    .dataframe tbody tr th:only-of-type {\n",
       "        vertical-align: middle;\n",
       "    }\n",
       "\n",
       "    .dataframe tbody tr th {\n",
       "        vertical-align: top;\n",
       "    }\n",
       "\n",
       "    .dataframe thead th {\n",
       "        text-align: right;\n",
       "    }\n",
       "</style>\n",
       "<table border=\"1\" class=\"dataframe\">\n",
       "  <thead>\n",
       "    <tr style=\"text-align: right;\">\n",
       "      <th></th>\n",
       "      <th>customerID</th>\n",
       "      <th>MultipleLines</th>\n",
       "      <th>InternetService</th>\n",
       "      <th>OnlineSecurity</th>\n",
       "      <th>OnlineBackup</th>\n",
       "      <th>DeviceProtection</th>\n",
       "      <th>TechSupport</th>\n",
       "      <th>StreamingTV</th>\n",
       "      <th>StreamingMovies</th>\n",
       "    </tr>\n",
       "  </thead>\n",
       "  <tbody>\n",
       "    <tr>\n",
       "      <th>0</th>\n",
       "      <td>7590-VHVEG</td>\n",
       "      <td>No phone service</td>\n",
       "      <td>DSL</td>\n",
       "      <td>No</td>\n",
       "      <td>Yes</td>\n",
       "      <td>No</td>\n",
       "      <td>No</td>\n",
       "      <td>No</td>\n",
       "      <td>No</td>\n",
       "    </tr>\n",
       "    <tr>\n",
       "      <th>1</th>\n",
       "      <td>5575-GNVDE</td>\n",
       "      <td>No</td>\n",
       "      <td>DSL</td>\n",
       "      <td>Yes</td>\n",
       "      <td>No</td>\n",
       "      <td>Yes</td>\n",
       "      <td>No</td>\n",
       "      <td>No</td>\n",
       "      <td>No</td>\n",
       "    </tr>\n",
       "    <tr>\n",
       "      <th>2</th>\n",
       "      <td>3668-QPYBK</td>\n",
       "      <td>No</td>\n",
       "      <td>DSL</td>\n",
       "      <td>Yes</td>\n",
       "      <td>Yes</td>\n",
       "      <td>No</td>\n",
       "      <td>No</td>\n",
       "      <td>No</td>\n",
       "      <td>No</td>\n",
       "    </tr>\n",
       "    <tr>\n",
       "      <th>3</th>\n",
       "      <td>7795-CFOCW</td>\n",
       "      <td>No phone service</td>\n",
       "      <td>DSL</td>\n",
       "      <td>Yes</td>\n",
       "      <td>No</td>\n",
       "      <td>Yes</td>\n",
       "      <td>Yes</td>\n",
       "      <td>No</td>\n",
       "      <td>No</td>\n",
       "    </tr>\n",
       "    <tr>\n",
       "      <th>4</th>\n",
       "      <td>9237-HQITU</td>\n",
       "      <td>No</td>\n",
       "      <td>Fiber optic</td>\n",
       "      <td>No</td>\n",
       "      <td>No</td>\n",
       "      <td>No</td>\n",
       "      <td>No</td>\n",
       "      <td>No</td>\n",
       "      <td>No</td>\n",
       "    </tr>\n",
       "  </tbody>\n",
       "</table>\n",
       "</div>"
      ],
      "text/plain": [
       "   customerID     MultipleLines InternetService OnlineSecurity OnlineBackup  \\\n",
       "0  7590-VHVEG  No phone service             DSL             No          Yes   \n",
       "1  5575-GNVDE                No             DSL            Yes           No   \n",
       "2  3668-QPYBK                No             DSL            Yes          Yes   \n",
       "3  7795-CFOCW  No phone service             DSL            Yes           No   \n",
       "4  9237-HQITU                No     Fiber optic             No           No   \n",
       "\n",
       "  DeviceProtection TechSupport StreamingTV StreamingMovies  \n",
       "0               No          No          No              No  \n",
       "1              Yes          No          No              No  \n",
       "2               No          No          No              No  \n",
       "3              Yes         Yes          No              No  \n",
       "4               No          No          No              No  "
      ]
     },
     "execution_count": 417,
     "metadata": {},
     "output_type": "execute_result"
    }
   ],
   "source": [
    "internet_data.head(5)"
   ]
  },
  {
   "cell_type": "markdown",
   "id": "36da8d98-8e22-494d-92bf-002d685d8e9d",
   "metadata": {
    "tags": []
   },
   "source": [
    "## Veri Birleştirme ##"
   ]
  },
  {
   "cell_type": "code",
   "execution_count": 27,
   "id": "6bbcc581-8257-4e7a-a72a-7b3cb1b2a0bd",
   "metadata": {},
   "outputs": [
    {
     "data": {
      "text/plain": [
       "(7042, 9)"
      ]
     },
     "execution_count": 27,
     "metadata": {},
     "output_type": "execute_result"
    }
   ],
   "source": [
    "churn_data.shape"
   ]
  },
  {
   "cell_type": "code",
   "execution_count": 35,
   "id": "cc7c418e-dc33-4a06-abc6-dda52bc5f1b2",
   "metadata": {},
   "outputs": [
    {
     "data": {
      "text/plain": [
       "customerID          0\n",
       "tenure              0\n",
       "PhoneService        0\n",
       "Contract            0\n",
       "PaperlessBilling    0\n",
       "PaymentMethod       0\n",
       "MonthlyCharges      0\n",
       "TotalCharges        0\n",
       "Churn               0\n",
       "dtype: int64"
      ]
     },
     "execution_count": 35,
     "metadata": {},
     "output_type": "execute_result"
    }
   ],
   "source": [
    "churn_data.isna().sum()"
   ]
  },
  {
   "cell_type": "code",
   "execution_count": 29,
   "id": "dd1aa389-4852-4317-82cb-4cf8097816c5",
   "metadata": {},
   "outputs": [
    {
     "data": {
      "text/plain": [
       "(7042, 5)"
      ]
     },
     "execution_count": 29,
     "metadata": {},
     "output_type": "execute_result"
    }
   ],
   "source": [
    "customer_data.shape"
   ]
  },
  {
   "cell_type": "code",
   "execution_count": 36,
   "id": "231c81e3-50e1-4e23-8dfe-6981ad14f4ad",
   "metadata": {},
   "outputs": [
    {
     "data": {
      "text/plain": [
       "customerID       0\n",
       "gender           0\n",
       "SeniorCitizen    0\n",
       "Partner          0\n",
       "Dependents       0\n",
       "dtype: int64"
      ]
     },
     "execution_count": 36,
     "metadata": {},
     "output_type": "execute_result"
    }
   ],
   "source": [
    "customer_data.isna().sum()"
   ]
  },
  {
   "cell_type": "code",
   "execution_count": 34,
   "id": "f2edbb92-941b-4d10-acdf-3149fc250dad",
   "metadata": {},
   "outputs": [
    {
     "data": {
      "text/plain": [
       "(7042, 9)"
      ]
     },
     "execution_count": 34,
     "metadata": {},
     "output_type": "execute_result"
    }
   ],
   "source": [
    "internet_data.shape"
   ]
  },
  {
   "cell_type": "code",
   "execution_count": 37,
   "id": "410a36e3-cc8f-43e4-ac3c-dd3bfa475caa",
   "metadata": {},
   "outputs": [
    {
     "data": {
      "text/plain": [
       "customerID          0\n",
       "MultipleLines       0\n",
       "InternetService     0\n",
       "OnlineSecurity      0\n",
       "OnlineBackup        0\n",
       "DeviceProtection    0\n",
       "TechSupport         0\n",
       "StreamingTV         0\n",
       "StreamingMovies     0\n",
       "dtype: int64"
      ]
     },
     "execution_count": 37,
     "metadata": {},
     "output_type": "execute_result"
    }
   ],
   "source": [
    "internet_data.isna().sum()"
   ]
  },
  {
   "cell_type": "code",
   "execution_count": null,
   "id": "20d8e6da-8abc-47ca-a1ee-db27f6faa00a",
   "metadata": {},
   "outputs": [],
   "source": [
    "# VERİLERİMİZDE KAYIP DEĞER BULUNMAMAKTADIR. VERİLERİ BİRLEŞTİREBİLİRİZ."
   ]
  },
  {
   "cell_type": "code",
   "execution_count": 6,
   "id": "4ee71d7f-8f71-42a8-97d1-ca4b8c049cc1",
   "metadata": {},
   "outputs": [],
   "source": [
    "df= pd.merge(churn_data, customer_data, how='inner',on='customerID')\n"
   ]
  },
  {
   "cell_type": "code",
   "execution_count": 7,
   "id": "4b74e668-2857-4bbf-a68f-1fa48acd7320",
   "metadata": {},
   "outputs": [],
   "source": [
    "telecom = pd.merge(df,internet_data,how='inner',on='customerID')\n"
   ]
  },
  {
   "cell_type": "markdown",
   "id": "a82fc22e-7349-4d67-b569-1b6ba3d993e0",
   "metadata": {
    "tags": []
   },
   "source": [
    "## Veri Önİşleme"
   ]
  },
  {
   "cell_type": "code",
   "execution_count": 40,
   "id": "4bd734d7-05cf-4eaf-89a1-04c093ccb873",
   "metadata": {},
   "outputs": [
    {
     "data": {
      "text/html": [
       "<div>\n",
       "<style scoped>\n",
       "    .dataframe tbody tr th:only-of-type {\n",
       "        vertical-align: middle;\n",
       "    }\n",
       "\n",
       "    .dataframe tbody tr th {\n",
       "        vertical-align: top;\n",
       "    }\n",
       "\n",
       "    .dataframe thead th {\n",
       "        text-align: right;\n",
       "    }\n",
       "</style>\n",
       "<table border=\"1\" class=\"dataframe\">\n",
       "  <thead>\n",
       "    <tr style=\"text-align: right;\">\n",
       "      <th></th>\n",
       "      <th>customerID</th>\n",
       "      <th>tenure</th>\n",
       "      <th>PhoneService</th>\n",
       "      <th>Contract</th>\n",
       "      <th>PaperlessBilling</th>\n",
       "      <th>PaymentMethod</th>\n",
       "      <th>MonthlyCharges</th>\n",
       "      <th>TotalCharges</th>\n",
       "      <th>Churn</th>\n",
       "      <th>gender</th>\n",
       "      <th>...</th>\n",
       "      <th>Partner</th>\n",
       "      <th>Dependents</th>\n",
       "      <th>MultipleLines</th>\n",
       "      <th>InternetService</th>\n",
       "      <th>OnlineSecurity</th>\n",
       "      <th>OnlineBackup</th>\n",
       "      <th>DeviceProtection</th>\n",
       "      <th>TechSupport</th>\n",
       "      <th>StreamingTV</th>\n",
       "      <th>StreamingMovies</th>\n",
       "    </tr>\n",
       "  </thead>\n",
       "  <tbody>\n",
       "    <tr>\n",
       "      <th>0</th>\n",
       "      <td>7590-VHVEG</td>\n",
       "      <td>1</td>\n",
       "      <td>No</td>\n",
       "      <td>Month-to-month</td>\n",
       "      <td>Yes</td>\n",
       "      <td>Electronic check</td>\n",
       "      <td>29.85</td>\n",
       "      <td>29.85</td>\n",
       "      <td>No</td>\n",
       "      <td>Female</td>\n",
       "      <td>...</td>\n",
       "      <td>Yes</td>\n",
       "      <td>No</td>\n",
       "      <td>No phone service</td>\n",
       "      <td>DSL</td>\n",
       "      <td>No</td>\n",
       "      <td>Yes</td>\n",
       "      <td>No</td>\n",
       "      <td>No</td>\n",
       "      <td>No</td>\n",
       "      <td>No</td>\n",
       "    </tr>\n",
       "    <tr>\n",
       "      <th>1</th>\n",
       "      <td>5575-GNVDE</td>\n",
       "      <td>34</td>\n",
       "      <td>Yes</td>\n",
       "      <td>One year</td>\n",
       "      <td>No</td>\n",
       "      <td>Mailed check</td>\n",
       "      <td>56.95</td>\n",
       "      <td>1889.50</td>\n",
       "      <td>No</td>\n",
       "      <td>Male</td>\n",
       "      <td>...</td>\n",
       "      <td>No</td>\n",
       "      <td>No</td>\n",
       "      <td>No</td>\n",
       "      <td>DSL</td>\n",
       "      <td>Yes</td>\n",
       "      <td>No</td>\n",
       "      <td>Yes</td>\n",
       "      <td>No</td>\n",
       "      <td>No</td>\n",
       "      <td>No</td>\n",
       "    </tr>\n",
       "    <tr>\n",
       "      <th>2</th>\n",
       "      <td>3668-QPYBK</td>\n",
       "      <td>2</td>\n",
       "      <td>Yes</td>\n",
       "      <td>Month-to-month</td>\n",
       "      <td>Yes</td>\n",
       "      <td>Mailed check</td>\n",
       "      <td>53.85</td>\n",
       "      <td>108.15</td>\n",
       "      <td>Yes</td>\n",
       "      <td>Male</td>\n",
       "      <td>...</td>\n",
       "      <td>No</td>\n",
       "      <td>No</td>\n",
       "      <td>No</td>\n",
       "      <td>DSL</td>\n",
       "      <td>Yes</td>\n",
       "      <td>Yes</td>\n",
       "      <td>No</td>\n",
       "      <td>No</td>\n",
       "      <td>No</td>\n",
       "      <td>No</td>\n",
       "    </tr>\n",
       "    <tr>\n",
       "      <th>3</th>\n",
       "      <td>7795-CFOCW</td>\n",
       "      <td>45</td>\n",
       "      <td>No</td>\n",
       "      <td>One year</td>\n",
       "      <td>No</td>\n",
       "      <td>Bank transfer (automatic)</td>\n",
       "      <td>42.30</td>\n",
       "      <td>1840.75</td>\n",
       "      <td>No</td>\n",
       "      <td>Male</td>\n",
       "      <td>...</td>\n",
       "      <td>No</td>\n",
       "      <td>No</td>\n",
       "      <td>No phone service</td>\n",
       "      <td>DSL</td>\n",
       "      <td>Yes</td>\n",
       "      <td>No</td>\n",
       "      <td>Yes</td>\n",
       "      <td>Yes</td>\n",
       "      <td>No</td>\n",
       "      <td>No</td>\n",
       "    </tr>\n",
       "    <tr>\n",
       "      <th>4</th>\n",
       "      <td>9237-HQITU</td>\n",
       "      <td>2</td>\n",
       "      <td>Yes</td>\n",
       "      <td>Month-to-month</td>\n",
       "      <td>Yes</td>\n",
       "      <td>Electronic check</td>\n",
       "      <td>70.70</td>\n",
       "      <td>151.65</td>\n",
       "      <td>Yes</td>\n",
       "      <td>Female</td>\n",
       "      <td>...</td>\n",
       "      <td>No</td>\n",
       "      <td>No</td>\n",
       "      <td>No</td>\n",
       "      <td>Fiber optic</td>\n",
       "      <td>No</td>\n",
       "      <td>No</td>\n",
       "      <td>No</td>\n",
       "      <td>No</td>\n",
       "      <td>No</td>\n",
       "      <td>No</td>\n",
       "    </tr>\n",
       "    <tr>\n",
       "      <th>...</th>\n",
       "      <td>...</td>\n",
       "      <td>...</td>\n",
       "      <td>...</td>\n",
       "      <td>...</td>\n",
       "      <td>...</td>\n",
       "      <td>...</td>\n",
       "      <td>...</td>\n",
       "      <td>...</td>\n",
       "      <td>...</td>\n",
       "      <td>...</td>\n",
       "      <td>...</td>\n",
       "      <td>...</td>\n",
       "      <td>...</td>\n",
       "      <td>...</td>\n",
       "      <td>...</td>\n",
       "      <td>...</td>\n",
       "      <td>...</td>\n",
       "      <td>...</td>\n",
       "      <td>...</td>\n",
       "      <td>...</td>\n",
       "      <td>...</td>\n",
       "    </tr>\n",
       "    <tr>\n",
       "      <th>7037</th>\n",
       "      <td>2569-WGERO</td>\n",
       "      <td>72</td>\n",
       "      <td>Yes</td>\n",
       "      <td>Two year</td>\n",
       "      <td>Yes</td>\n",
       "      <td>Bank transfer (automatic)</td>\n",
       "      <td>21.15</td>\n",
       "      <td>1419.40</td>\n",
       "      <td>No</td>\n",
       "      <td>Female</td>\n",
       "      <td>...</td>\n",
       "      <td>No</td>\n",
       "      <td>No</td>\n",
       "      <td>No</td>\n",
       "      <td>No</td>\n",
       "      <td>No internet service</td>\n",
       "      <td>No internet service</td>\n",
       "      <td>No internet service</td>\n",
       "      <td>No internet service</td>\n",
       "      <td>No internet service</td>\n",
       "      <td>No internet service</td>\n",
       "    </tr>\n",
       "    <tr>\n",
       "      <th>7038</th>\n",
       "      <td>6840-RESVB</td>\n",
       "      <td>24</td>\n",
       "      <td>Yes</td>\n",
       "      <td>One year</td>\n",
       "      <td>Yes</td>\n",
       "      <td>Mailed check</td>\n",
       "      <td>84.80</td>\n",
       "      <td>1990.50</td>\n",
       "      <td>No</td>\n",
       "      <td>Male</td>\n",
       "      <td>...</td>\n",
       "      <td>Yes</td>\n",
       "      <td>Yes</td>\n",
       "      <td>Yes</td>\n",
       "      <td>DSL</td>\n",
       "      <td>Yes</td>\n",
       "      <td>No</td>\n",
       "      <td>Yes</td>\n",
       "      <td>Yes</td>\n",
       "      <td>Yes</td>\n",
       "      <td>Yes</td>\n",
       "    </tr>\n",
       "    <tr>\n",
       "      <th>7039</th>\n",
       "      <td>2234-XADUH</td>\n",
       "      <td>72</td>\n",
       "      <td>Yes</td>\n",
       "      <td>One year</td>\n",
       "      <td>Yes</td>\n",
       "      <td>Credit card (automatic)</td>\n",
       "      <td>103.20</td>\n",
       "      <td>7362.90</td>\n",
       "      <td>No</td>\n",
       "      <td>Female</td>\n",
       "      <td>...</td>\n",
       "      <td>Yes</td>\n",
       "      <td>Yes</td>\n",
       "      <td>Yes</td>\n",
       "      <td>Fiber optic</td>\n",
       "      <td>No</td>\n",
       "      <td>Yes</td>\n",
       "      <td>Yes</td>\n",
       "      <td>No</td>\n",
       "      <td>Yes</td>\n",
       "      <td>Yes</td>\n",
       "    </tr>\n",
       "    <tr>\n",
       "      <th>7040</th>\n",
       "      <td>4801-JZAZL</td>\n",
       "      <td>11</td>\n",
       "      <td>No</td>\n",
       "      <td>Month-to-month</td>\n",
       "      <td>Yes</td>\n",
       "      <td>Electronic check</td>\n",
       "      <td>29.60</td>\n",
       "      <td>346.45</td>\n",
       "      <td>No</td>\n",
       "      <td>Female</td>\n",
       "      <td>...</td>\n",
       "      <td>Yes</td>\n",
       "      <td>Yes</td>\n",
       "      <td>No phone service</td>\n",
       "      <td>DSL</td>\n",
       "      <td>Yes</td>\n",
       "      <td>No</td>\n",
       "      <td>No</td>\n",
       "      <td>No</td>\n",
       "      <td>No</td>\n",
       "      <td>No</td>\n",
       "    </tr>\n",
       "    <tr>\n",
       "      <th>7041</th>\n",
       "      <td>8361-LTMKD</td>\n",
       "      <td>4</td>\n",
       "      <td>Yes</td>\n",
       "      <td>Month-to-month</td>\n",
       "      <td>Yes</td>\n",
       "      <td>Mailed check</td>\n",
       "      <td>74.40</td>\n",
       "      <td>306.60</td>\n",
       "      <td>Yes</td>\n",
       "      <td>Male</td>\n",
       "      <td>...</td>\n",
       "      <td>Yes</td>\n",
       "      <td>No</td>\n",
       "      <td>Yes</td>\n",
       "      <td>Fiber optic</td>\n",
       "      <td>No</td>\n",
       "      <td>No</td>\n",
       "      <td>No</td>\n",
       "      <td>No</td>\n",
       "      <td>No</td>\n",
       "      <td>No</td>\n",
       "    </tr>\n",
       "  </tbody>\n",
       "</table>\n",
       "<p>7042 rows × 21 columns</p>\n",
       "</div>"
      ],
      "text/plain": [
       "      customerID  tenure PhoneService        Contract PaperlessBilling  \\\n",
       "0     7590-VHVEG       1           No  Month-to-month              Yes   \n",
       "1     5575-GNVDE      34          Yes        One year               No   \n",
       "2     3668-QPYBK       2          Yes  Month-to-month              Yes   \n",
       "3     7795-CFOCW      45           No        One year               No   \n",
       "4     9237-HQITU       2          Yes  Month-to-month              Yes   \n",
       "...          ...     ...          ...             ...              ...   \n",
       "7037  2569-WGERO      72          Yes        Two year              Yes   \n",
       "7038  6840-RESVB      24          Yes        One year              Yes   \n",
       "7039  2234-XADUH      72          Yes        One year              Yes   \n",
       "7040  4801-JZAZL      11           No  Month-to-month              Yes   \n",
       "7041  8361-LTMKD       4          Yes  Month-to-month              Yes   \n",
       "\n",
       "                  PaymentMethod  MonthlyCharges TotalCharges Churn  gender  \\\n",
       "0              Electronic check           29.85        29.85    No  Female   \n",
       "1                  Mailed check           56.95      1889.50    No    Male   \n",
       "2                  Mailed check           53.85       108.15   Yes    Male   \n",
       "3     Bank transfer (automatic)           42.30      1840.75    No    Male   \n",
       "4              Electronic check           70.70       151.65   Yes  Female   \n",
       "...                         ...             ...          ...   ...     ...   \n",
       "7037  Bank transfer (automatic)           21.15      1419.40    No  Female   \n",
       "7038               Mailed check           84.80      1990.50    No    Male   \n",
       "7039    Credit card (automatic)          103.20      7362.90    No  Female   \n",
       "7040           Electronic check           29.60       346.45    No  Female   \n",
       "7041               Mailed check           74.40       306.60   Yes    Male   \n",
       "\n",
       "      ...  Partner Dependents     MultipleLines InternetService  \\\n",
       "0     ...      Yes         No  No phone service             DSL   \n",
       "1     ...       No         No                No             DSL   \n",
       "2     ...       No         No                No             DSL   \n",
       "3     ...       No         No  No phone service             DSL   \n",
       "4     ...       No         No                No     Fiber optic   \n",
       "...   ...      ...        ...               ...             ...   \n",
       "7037  ...       No         No                No              No   \n",
       "7038  ...      Yes        Yes               Yes             DSL   \n",
       "7039  ...      Yes        Yes               Yes     Fiber optic   \n",
       "7040  ...      Yes        Yes  No phone service             DSL   \n",
       "7041  ...      Yes         No               Yes     Fiber optic   \n",
       "\n",
       "           OnlineSecurity         OnlineBackup     DeviceProtection  \\\n",
       "0                      No                  Yes                   No   \n",
       "1                     Yes                   No                  Yes   \n",
       "2                     Yes                  Yes                   No   \n",
       "3                     Yes                   No                  Yes   \n",
       "4                      No                   No                   No   \n",
       "...                   ...                  ...                  ...   \n",
       "7037  No internet service  No internet service  No internet service   \n",
       "7038                  Yes                   No                  Yes   \n",
       "7039                   No                  Yes                  Yes   \n",
       "7040                  Yes                   No                   No   \n",
       "7041                   No                   No                   No   \n",
       "\n",
       "              TechSupport          StreamingTV      StreamingMovies  \n",
       "0                      No                   No                   No  \n",
       "1                      No                   No                   No  \n",
       "2                      No                   No                   No  \n",
       "3                     Yes                   No                   No  \n",
       "4                      No                   No                   No  \n",
       "...                   ...                  ...                  ...  \n",
       "7037  No internet service  No internet service  No internet service  \n",
       "7038                  Yes                  Yes                  Yes  \n",
       "7039                   No                  Yes                  Yes  \n",
       "7040                   No                   No                   No  \n",
       "7041                   No                   No                   No  \n",
       "\n",
       "[7042 rows x 21 columns]"
      ]
     },
     "execution_count": 40,
     "metadata": {},
     "output_type": "execute_result"
    }
   ],
   "source": [
    "telecom"
   ]
  },
  {
   "cell_type": "code",
   "execution_count": 58,
   "id": "9661af40-8b52-4270-aff3-99a41a387c08",
   "metadata": {},
   "outputs": [
    {
     "name": "stdout",
     "output_type": "stream",
     "text": [
      "<class 'pandas.core.frame.DataFrame'>\n",
      "Int64Index: 7042 entries, 0 to 7041\n",
      "Data columns (total 21 columns):\n",
      " #   Column            Non-Null Count  Dtype  \n",
      "---  ------            --------------  -----  \n",
      " 0   customerID        7042 non-null   object \n",
      " 1   tenure            7042 non-null   int64  \n",
      " 2   PhoneService      7042 non-null   object \n",
      " 3   Contract          7042 non-null   object \n",
      " 4   PaperlessBilling  7042 non-null   object \n",
      " 5   PaymentMethod     7042 non-null   object \n",
      " 6   MonthlyCharges    7042 non-null   float64\n",
      " 7   TotalCharges      7042 non-null   float64\n",
      " 8   Churn             7042 non-null   object \n",
      " 9   gender            7042 non-null   object \n",
      " 10  SeniorCitizen     7042 non-null   int64  \n",
      " 11  Partner           7042 non-null   object \n",
      " 12  Dependents        7042 non-null   object \n",
      " 13  MultipleLines     7042 non-null   object \n",
      " 14  InternetService   7042 non-null   object \n",
      " 15  OnlineSecurity    7042 non-null   object \n",
      " 16  OnlineBackup      7042 non-null   object \n",
      " 17  DeviceProtection  7042 non-null   object \n",
      " 18  TechSupport       7042 non-null   object \n",
      " 19  StreamingTV       7042 non-null   object \n",
      " 20  StreamingMovies   7042 non-null   object \n",
      "dtypes: float64(2), int64(2), object(17)\n",
      "memory usage: 1.2+ MB\n"
     ]
    }
   ],
   "source": [
    "telecom.info()"
   ]
  },
  {
   "cell_type": "code",
   "execution_count": 8,
   "id": "c0f8008f-88b8-494f-a5ad-b2cda99a4c83",
   "metadata": {},
   "outputs": [
    {
     "name": "stdout",
     "output_type": "stream",
     "text": [
      "Observations: 7042\n",
      "Variables: 21\n",
      "cat_cols: 17\n",
      "num_cols: 3\n",
      "cat_but_car: 1\n",
      "num_cat_cols: 1\n"
     ]
    }
   ],
   "source": [
    "def grab_col_names(dataframe, cat_th=10, car_th=20):\n",
    "\n",
    "    cat_cols = [col for col in dataframe.columns if dataframe[col].dtype in [\"category\",\"object\",\"bool\"]]\n",
    "    num_cat_cols = [col for col in dataframe.columns if dataframe[col].dtype in [\"int64\",\"int32\",\"float64\",\"float32\"]\n",
    "                    and dataframe[col].nunique() < cat_th]\n",
    "    cat_cols += num_cat_cols\n",
    "\n",
    "    cat_but_car = [col for col in dataframe.columns if dataframe[col].dtype in [\"category\",\"object\"]\n",
    "                   and dataframe[col].nunique() > car_th]\n",
    "\n",
    "    cat_cols = [col for col in cat_cols if col not in cat_but_car]\n",
    "\n",
    "    num_cols = [col for col in dataframe.columns if dataframe[col].dtype in [\"int64\",\"float64\"]\n",
    "                and dataframe[col].nunique() > cat_th]\n",
    "\n",
    "    print(f\"Observations: {dataframe.shape[0]}\")\n",
    "    print(f\"Variables: {dataframe.shape[1]}\")\n",
    "    print(f\"cat_cols: {len(cat_cols)}\")\n",
    "    print(f\"num_cols: {len(num_cols)}\")\n",
    "    print(f\"cat_but_car: {len(cat_but_car)}\")\n",
    "    print(f\"num_cat_cols: {len(num_cat_cols)}\")\n",
    "\n",
    "    return cat_cols,num_cols,cat_but_car\n",
    "\n",
    "\n",
    "cat_cols,num_cols,cat_but_car = grab_col_names(telecom)"
   ]
  },
  {
   "cell_type": "code",
   "execution_count": 9,
   "id": "b6164c1b-e151-4c6e-8de1-c962409f9487",
   "metadata": {},
   "outputs": [],
   "source": [
    "# Nümerik değişkenleri num_deg adı altında topladım.\n",
    "num_deg = df.select_dtypes(include=['float64', 'int64']).copy()"
   ]
  },
  {
   "cell_type": "code",
   "execution_count": 10,
   "id": "db3cbd71-324e-494c-a15a-859ca8c51a5f",
   "metadata": {},
   "outputs": [
    {
     "data": {
      "text/html": [
       "<div>\n",
       "<style scoped>\n",
       "    .dataframe tbody tr th:only-of-type {\n",
       "        vertical-align: middle;\n",
       "    }\n",
       "\n",
       "    .dataframe tbody tr th {\n",
       "        vertical-align: top;\n",
       "    }\n",
       "\n",
       "    .dataframe thead th {\n",
       "        text-align: right;\n",
       "    }\n",
       "</style>\n",
       "<table border=\"1\" class=\"dataframe\">\n",
       "  <thead>\n",
       "    <tr style=\"text-align: right;\">\n",
       "      <th></th>\n",
       "      <th>tenure</th>\n",
       "      <th>MonthlyCharges</th>\n",
       "      <th>TotalCharges</th>\n",
       "      <th>SeniorCitizen</th>\n",
       "    </tr>\n",
       "  </thead>\n",
       "  <tbody>\n",
       "    <tr>\n",
       "      <th>count</th>\n",
       "      <td>7042.00</td>\n",
       "      <td>7042.00</td>\n",
       "      <td>7042.00</td>\n",
       "      <td>7042.00</td>\n",
       "    </tr>\n",
       "    <tr>\n",
       "      <th>mean</th>\n",
       "      <td>32.37</td>\n",
       "      <td>64.76</td>\n",
       "      <td>2282.52</td>\n",
       "      <td>0.16</td>\n",
       "    </tr>\n",
       "    <tr>\n",
       "      <th>std</th>\n",
       "      <td>24.56</td>\n",
       "      <td>30.09</td>\n",
       "      <td>2264.51</td>\n",
       "      <td>0.37</td>\n",
       "    </tr>\n",
       "    <tr>\n",
       "      <th>min</th>\n",
       "      <td>0.00</td>\n",
       "      <td>18.25</td>\n",
       "      <td>18.80</td>\n",
       "      <td>0.00</td>\n",
       "    </tr>\n",
       "    <tr>\n",
       "      <th>25%</th>\n",
       "      <td>9.00</td>\n",
       "      <td>35.50</td>\n",
       "      <td>402.09</td>\n",
       "      <td>0.00</td>\n",
       "    </tr>\n",
       "    <tr>\n",
       "      <th>50%</th>\n",
       "      <td>29.00</td>\n",
       "      <td>70.35</td>\n",
       "      <td>1400.42</td>\n",
       "      <td>0.00</td>\n",
       "    </tr>\n",
       "    <tr>\n",
       "      <th>75%</th>\n",
       "      <td>55.00</td>\n",
       "      <td>89.85</td>\n",
       "      <td>3783.60</td>\n",
       "      <td>0.00</td>\n",
       "    </tr>\n",
       "    <tr>\n",
       "      <th>max</th>\n",
       "      <td>72.00</td>\n",
       "      <td>118.75</td>\n",
       "      <td>8684.80</td>\n",
       "      <td>1.00</td>\n",
       "    </tr>\n",
       "  </tbody>\n",
       "</table>\n",
       "</div>"
      ],
      "text/plain": [
       "       tenure  MonthlyCharges  TotalCharges  SeniorCitizen\n",
       "count 7042.00         7042.00       7042.00        7042.00\n",
       "mean    32.37           64.76       2282.52           0.16\n",
       "std     24.56           30.09       2264.51           0.37\n",
       "min      0.00           18.25         18.80           0.00\n",
       "25%      9.00           35.50        402.09           0.00\n",
       "50%     29.00           70.35       1400.42           0.00\n",
       "75%     55.00           89.85       3783.60           0.00\n",
       "max     72.00          118.75       8684.80           1.00"
      ]
     },
     "execution_count": 10,
     "metadata": {},
     "output_type": "execute_result"
    }
   ],
   "source": [
    "#Nümerik değişkenlerin özet istatistikleri\n",
    "num_deg.describe()"
   ]
  },
  {
   "cell_type": "code",
   "execution_count": 333,
   "id": "5ee9fc26-0523-4d15-82dc-cac65ba2e5ef",
   "metadata": {},
   "outputs": [
    {
     "data": {
      "text/plain": [
       "<AxesSubplot:>"
      ]
     },
     "execution_count": 333,
     "metadata": {},
     "output_type": "execute_result"
    },
    {
     "data": {
      "image/png": "[encoded data removed]",
      "text/plain": [
       "<Figure size 432x288 with 2 Axes>"
      ]
     },
     "metadata": {
      "needs_background": "light"
     },
     "output_type": "display_data"
    }
   ],
   "source": [
    "# Nümerik Değişkenler arası ilişkiyi inceler\n",
    "corr_matrix = telecom.corr()\n",
    "sns.heatmap(telecom.corr(), annot=True, cmap='coolwarm', annot_kws={\"fontsize\":7, \"fontweight\":\"bold\"})"
   ]
  },
  {
   "cell_type": "markdown",
   "id": "05edcfda-f734-47ba-9cf5-7bf245881bf9",
   "metadata": {},
   "source": [
    "## Kİ-KARE TESTİ"
   ]
  },
  {
   "cell_type": "code",
   "execution_count": 340,
   "id": "1192f8d9-851b-4966-bf5e-970acc404527",
   "metadata": {},
   "outputs": [],
   "source": [
    "# Kategorik değişkenler\n",
    "pd.DataFrame(cat_cols)"
   ]
  },
  {
   "cell_type": "code",
   "execution_count": null,
   "id": "24ad3a84-fe05-4126-bdc0-69858990b611",
   "metadata": {},
   "outputs": [],
   "source": []
  },
  {
   "cell_type": "code",
   "execution_count": 342,
   "id": "889e2881-69f4-4282-8f7c-eafb6e4fd5b2",
   "metadata": {},
   "outputs": [],
   "source": [
    "# Ki-kare testi\n",
    "result = {}\n",
    "for column in telecom.columns:\n",
    "    if column != 'Churn':\n",
    "        contingency_table = pd.crosstab(telecom[column], telecom['Churn'])\n",
    "        _, p_value, _, _ = chi2_contingency(contingency_table)\n",
    "        result[column] = p_value"
   ]
  },
  {
   "cell_type": "code",
   "execution_count": 349,
   "id": "0aa09d48-69e0-4aad-8b3e-74fd1a349961",
   "metadata": {},
   "outputs": [
    {
     "name": "stdout",
     "output_type": "stream",
     "text": [
      "customerID - p-value: 0.49439727682293294\n",
      "tenure - p-value: 1.5063350129206513e-176\n",
      "PhoneService - p-value: 0.3376178354605148\n",
      "Contract - p-value: 7.396089591459741e-258\n",
      "PaperlessBilling - p-value: 3.69745175840287e-58\n",
      "PaymentMethod - p-value: 4.227881844739379e-140\n",
      "MonthlyCharges - p-value: 1.5034421184584665e-18\n",
      "TotalCharges - p-value: 0.5530839959278123\n",
      "gender - p-value: 0.4910230550124751\n",
      "SeniorCitizen - p-value: 1.57972151437359e-36\n",
      "Partner - p-value: 1.9534760854584407e-36\n",
      "Dependents - p-value: 4.62921363980148e-43\n",
      "MultipleLines - p-value: 0.003535210440074958\n",
      "InternetService - p-value: 7.556647991204088e-160\n",
      "OnlineSecurity - p-value: 3.136632729570642e-185\n",
      "OnlineBackup - p-value: 1.700916002042848e-131\n",
      "DeviceProtection - p-value: 5.940156053688936e-122\n",
      "TechSupport - p-value: 1.6920559405943222e-180\n",
      "StreamingTV - p-value: 5.342120862046149e-82\n",
      "StreamingMovies - p-value: 2.5828769530011345e-82\n"
     ]
    }
   ],
   "source": [
    "# Sonuçları yazdırma\n",
    "for column, p_value in result.items():\n",
    " print(f'{column} - p-value: {p_value}')\n",
    "   "
   ]
  },
  {
   "cell_type": "markdown",
   "id": "ed370d8c-e38d-4971-b248-968fd10a30c4",
   "metadata": {},
   "source": [
    "# NORMALLİK TESİ"
   ]
  },
  {
   "cell_type": "code",
   "execution_count": 352,
   "id": "986e034b-aabd-499d-916e-1810e95a1cc0",
   "metadata": {},
   "outputs": [
    {
     "name": "stdout",
     "output_type": "stream",
     "text": [
      "tenure:\n",
      "Statistic: 0.9037\n",
      "p-value: 0.0000\n",
      "Dağılım normal değildir.\n",
      "-------------------------\n",
      "MonthlyCharges:\n",
      "Statistic: 0.9209\n",
      "p-value: 0.0000\n",
      "Dağılım normal değildir.\n",
      "-------------------------\n",
      "TotalCharges:\n",
      "Statistic: 0.8607\n",
      "p-value: 0.0000\n",
      "Dağılım normal değildir.\n",
      "-------------------------\n"
     ]
    }
   ],
   "source": [
    "from scipy.stats import shapiro\n",
    "\n",
    "# Çoklu normallik testi\n",
    "for column in num_cols:\n",
    "    if column != 'Sex':\n",
    "        statistic, p_value = shapiro(df[column])\n",
    "        print(f'{column}:')\n",
    "        print(f'Statistic: {statistic:.4f}')\n",
    "        print(f'p-value: {p_value:.4f}')\n",
    "        if p_value > 0.05:\n",
    "            print('Dağılım normaldir.')\n",
    "        else:\n",
    "            print('Dağılım normal değildir.')\n",
    "        print('-------------------------')"
   ]
  },
  {
   "cell_type": "code",
   "execution_count": 66,
   "id": "d96b2968-9ed9-4079-a1d6-787666c5c980",
   "metadata": {},
   "outputs": [
    {
     "data": {
      "image/png": "[encoded data removed]",
      "text/plain": [
       "<Figure size 432x288 with 1 Axes>"
      ]
     },
     "metadata": {
      "needs_background": "light"
     },
     "output_type": "display_data"
    }
   ],
   "source": [
    "churn_plot = sns.countplot(telecom['Churn'])"
   ]
  },
  {
   "cell_type": "code",
   "execution_count": 63,
   "id": "360e731b-aa7a-4cc3-8e5e-1a41ca55d612",
   "metadata": {},
   "outputs": [
    {
     "data": {
      "text/html": [
       "<div>\n",
       "<style scoped>\n",
       "    .dataframe tbody tr th:only-of-type {\n",
       "        vertical-align: middle;\n",
       "    }\n",
       "\n",
       "    .dataframe tbody tr th {\n",
       "        vertical-align: top;\n",
       "    }\n",
       "\n",
       "    .dataframe thead th {\n",
       "        text-align: right;\n",
       "    }\n",
       "</style>\n",
       "<table border=\"1\" class=\"dataframe\">\n",
       "  <thead>\n",
       "    <tr style=\"text-align: right;\">\n",
       "      <th></th>\n",
       "      <th>tenure</th>\n",
       "      <th>MonthlyCharges</th>\n",
       "      <th>TotalCharges</th>\n",
       "      <th>SeniorCitizen</th>\n",
       "    </tr>\n",
       "    <tr>\n",
       "      <th>Churn</th>\n",
       "      <th></th>\n",
       "      <th></th>\n",
       "      <th></th>\n",
       "      <th></th>\n",
       "    </tr>\n",
       "  </thead>\n",
       "  <tbody>\n",
       "    <tr>\n",
       "      <th>No</th>\n",
       "      <td>37.56</td>\n",
       "      <td>61.26</td>\n",
       "      <td>2553.76</td>\n",
       "      <td>0.13</td>\n",
       "    </tr>\n",
       "    <tr>\n",
       "      <th>Yes</th>\n",
       "      <td>17.98</td>\n",
       "      <td>74.44</td>\n",
       "      <td>1531.80</td>\n",
       "      <td>0.25</td>\n",
       "    </tr>\n",
       "  </tbody>\n",
       "</table>\n",
       "</div>"
      ],
      "text/plain": [
       "       tenure  MonthlyCharges  TotalCharges  SeniorCitizen\n",
       "Churn                                                     \n",
       "No      37.56           61.26       2553.76           0.13\n",
       "Yes     17.98           74.44       1531.80           0.25"
      ]
     },
     "execution_count": 63,
     "metadata": {},
     "output_type": "execute_result"
    }
   ],
   "source": [
    "telecom.groupby('Churn').mean()\n"
   ]
  },
  {
   "cell_type": "code",
   "execution_count": 11,
   "id": "8f46d372-826b-492a-a446-d3a80e1519b2",
   "metadata": {},
   "outputs": [],
   "source": [
    "telecom = telecom.drop(columns='customerID')"
   ]
  },
  {
   "cell_type": "code",
   "execution_count": 12,
   "id": "51448c35-147c-403f-a8d5-cd7856da369b",
   "metadata": {},
   "outputs": [
    {
     "data": {
      "text/plain": [
       "Index(['tenure', 'PhoneService', 'Contract', 'PaperlessBilling',\n",
       "       'PaymentMethod', 'MonthlyCharges', 'TotalCharges', 'Churn', 'gender',\n",
       "       'SeniorCitizen', 'Partner', 'Dependents', 'MultipleLines',\n",
       "       'InternetService', 'OnlineSecurity', 'OnlineBackup', 'DeviceProtection',\n",
       "       'TechSupport', 'StreamingTV', 'StreamingMovies'],\n",
       "      dtype='object')"
      ]
     },
     "execution_count": 12,
     "metadata": {},
     "output_type": "execute_result"
    }
   ],
   "source": [
    "telecom.columns"
   ]
  },
  {
   "cell_type": "code",
   "execution_count": 13,
   "id": "8dfe1ad4-6bad-4e3a-bf26-0617a3d0b29a",
   "metadata": {},
   "outputs": [],
   "source": [
    "# Yes-No cevapları 0-1 dönüşümü\n",
    "\n",
    "varlist =  ['PhoneService', 'PaperlessBilling', 'Churn', 'Partner', 'Dependents']\n",
    "\n",
    "def binary_map(x):\n",
    "    return x.map({'Yes': 1, \"No\": 0})\n",
    "\n",
    "telecom[varlist] = telecom[varlist].apply(binary_map)"
   ]
  },
  {
   "cell_type": "code",
   "execution_count": 14,
   "id": "102c146c-fc8e-45e1-b714-2b74864e9169",
   "metadata": {},
   "outputs": [],
   "source": [
    "\n",
    "# 'MultipleLines' dummy yapımı\n",
    "ml = pd.get_dummies(telecom['MultipleLines'], prefix='MultipleLines')\n",
    "# MultipleLines_No çıkarıyoruz.\n",
    "ml1 = ml.drop(['MultipleLines_No phone service'], 1)\n",
    "# 2 veriyi birleştiriyoruz\n",
    "telecom = pd.concat([telecom,ml1], axis=1)"
   ]
  },
  {
   "cell_type": "code",
   "execution_count": 15,
   "id": "3ca82eba-1451-4828-8a33-6c54cd0b77c6",
   "metadata": {},
   "outputs": [],
   "source": [
    "iss = pd.get_dummies(telecom.InternetService)\n",
    "iss = iss.drop(['No'], axis=1)\n",
    "telecom = pd.concat([telecom, iss], axis=1)"
   ]
  },
  {
   "cell_type": "code",
   "execution_count": 16,
   "id": "eeb8b724-4295-4757-a0aa-dbbb2071f693",
   "metadata": {},
   "outputs": [],
   "source": [
    "os = pd.get_dummies(telecom['OnlineSecurity'], prefix='OnlineSecurity')\n",
    "os1 = os.drop(['OnlineSecurity_No internet service'], 1)\n",
    "\n",
    "telecom = pd.concat([telecom,os1], axis=1)"
   ]
  },
  {
   "cell_type": "code",
   "execution_count": 17,
   "id": "ef0ab5ae-88fb-4791-8f7f-8b9da67903d0",
   "metadata": {},
   "outputs": [],
   "source": [
    "dp = pd.get_dummies(telecom['DeviceProtection'], prefix='DeviceProtection')\n",
    "dp1 = dp.drop(['DeviceProtection_No internet service'], 1)\n",
    "telecom= pd.concat([telecom,dp1], axis=1)"
   ]
  },
  {
   "cell_type": "code",
   "execution_count": 18,
   "id": "08f4bc29-4898-4975-8b4a-5799cb0e7a43",
   "metadata": {},
   "outputs": [],
   "source": [
    "ts = pd.get_dummies(telecom['TechSupport'], prefix='TechSupport')\n",
    "ts1 = ts.drop(['TechSupport_No internet service'], 1)\n",
    "telecom= pd.concat([telecom,ts1], axis=1)"
   ]
  },
  {
   "cell_type": "code",
   "execution_count": 19,
   "id": "16226454-962b-42a2-ab35-73e8e5d969d8",
   "metadata": {},
   "outputs": [],
   "source": [
    "st =pd.get_dummies(telecom['StreamingTV'], prefix='StreamingTV')\n",
    "st1 = st.drop(['StreamingTV_No internet service'], 1)\n",
    "telecom = pd.concat([telecom,st1], axis=1)\n"
   ]
  },
  {
   "cell_type": "code",
   "execution_count": 20,
   "id": "9cf5d5e9-0a2a-419d-b898-236377eebc8a",
   "metadata": {},
   "outputs": [],
   "source": [
    "sm = pd.get_dummies(telecom['StreamingMovies'], prefix='StreamingMovies')\n",
    "sm1 = sm.drop(['StreamingMovies_No internet service'], 1)\n",
    "telecom = pd.concat([telecom,sm1], axis=1)"
   ]
  },
  {
   "cell_type": "code",
   "execution_count": 21,
   "id": "fc6d2b0a-d7bf-4de1-8e0c-e26be836bec3",
   "metadata": {},
   "outputs": [],
   "source": [
    "# Cinsiyet dönüşümü\n",
    "def gender_map(x):\n",
    "    return x.map({'Female': 1, \"Male\": 0})\n",
    "\n",
    "# Applying the function to the housing list\n",
    "telecom['gender'] = telecom[['gender']].apply(gender_map)"
   ]
  },
  {
   "cell_type": "code",
   "execution_count": 22,
   "id": "de2c920a-f0ef-4f36-8629-9a5021bc60ba",
   "metadata": {},
   "outputs": [],
   "source": [
    "cc = pd.get_dummies(telecom.Contract)\n",
    "telecom = pd.concat([telecom,cc], axis=1)"
   ]
  },
  {
   "cell_type": "code",
   "execution_count": 23,
   "id": "275598ab-0cd3-4a30-b043-93575a5ba3fb",
   "metadata": {},
   "outputs": [],
   "source": [
    "ob = pd.get_dummies(telecom['OnlineBackup'], prefix='OnlineBackup')\n",
    "ob1 = ob.drop(['OnlineBackup_No internet service'], 1)\n",
    "telecom = pd.concat([telecom,ob1], axis=1)"
   ]
  },
  {
   "cell_type": "code",
   "execution_count": 24,
   "id": "346099f8-20b3-49ea-b1ef-50ae83008237",
   "metadata": {},
   "outputs": [],
   "source": [
    "pm = pd.get_dummies(telecom.PaymentMethod)\n",
    "telecom = pd.concat([telecom,pm], axis=1)"
   ]
  },
  {
   "cell_type": "code",
   "execution_count": 25,
   "id": "a00dfc80-1226-47f6-92a9-2b073e872e71",
   "metadata": {},
   "outputs": [
    {
     "data": {
      "text/html": [
       "<div>\n",
       "<style scoped>\n",
       "    .dataframe tbody tr th:only-of-type {\n",
       "        vertical-align: middle;\n",
       "    }\n",
       "\n",
       "    .dataframe tbody tr th {\n",
       "        vertical-align: top;\n",
       "    }\n",
       "\n",
       "    .dataframe thead th {\n",
       "        text-align: right;\n",
       "    }\n",
       "</style>\n",
       "<table border=\"1\" class=\"dataframe\">\n",
       "  <thead>\n",
       "    <tr style=\"text-align: right;\">\n",
       "      <th></th>\n",
       "      <th>tenure</th>\n",
       "      <th>PhoneService</th>\n",
       "      <th>Contract</th>\n",
       "      <th>PaperlessBilling</th>\n",
       "      <th>PaymentMethod</th>\n",
       "      <th>MonthlyCharges</th>\n",
       "      <th>TotalCharges</th>\n",
       "      <th>Churn</th>\n",
       "      <th>gender</th>\n",
       "      <th>SeniorCitizen</th>\n",
       "      <th>...</th>\n",
       "      <th>StreamingMovies_Yes</th>\n",
       "      <th>Month-to-month</th>\n",
       "      <th>One year</th>\n",
       "      <th>Two year</th>\n",
       "      <th>OnlineBackup_No</th>\n",
       "      <th>OnlineBackup_Yes</th>\n",
       "      <th>Bank transfer (automatic)</th>\n",
       "      <th>Credit card (automatic)</th>\n",
       "      <th>Electronic check</th>\n",
       "      <th>Mailed check</th>\n",
       "    </tr>\n",
       "  </thead>\n",
       "  <tbody>\n",
       "    <tr>\n",
       "      <th>0</th>\n",
       "      <td>1</td>\n",
       "      <td>0</td>\n",
       "      <td>Month-to-month</td>\n",
       "      <td>1</td>\n",
       "      <td>Electronic check</td>\n",
       "      <td>29.85</td>\n",
       "      <td>29.85</td>\n",
       "      <td>0</td>\n",
       "      <td>1</td>\n",
       "      <td>0</td>\n",
       "      <td>...</td>\n",
       "      <td>0</td>\n",
       "      <td>1</td>\n",
       "      <td>0</td>\n",
       "      <td>0</td>\n",
       "      <td>0</td>\n",
       "      <td>1</td>\n",
       "      <td>0</td>\n",
       "      <td>0</td>\n",
       "      <td>1</td>\n",
       "      <td>0</td>\n",
       "    </tr>\n",
       "    <tr>\n",
       "      <th>1</th>\n",
       "      <td>34</td>\n",
       "      <td>1</td>\n",
       "      <td>One year</td>\n",
       "      <td>0</td>\n",
       "      <td>Mailed check</td>\n",
       "      <td>56.95</td>\n",
       "      <td>1889.50</td>\n",
       "      <td>0</td>\n",
       "      <td>0</td>\n",
       "      <td>0</td>\n",
       "      <td>...</td>\n",
       "      <td>0</td>\n",
       "      <td>0</td>\n",
       "      <td>1</td>\n",
       "      <td>0</td>\n",
       "      <td>1</td>\n",
       "      <td>0</td>\n",
       "      <td>0</td>\n",
       "      <td>0</td>\n",
       "      <td>0</td>\n",
       "      <td>1</td>\n",
       "    </tr>\n",
       "    <tr>\n",
       "      <th>2</th>\n",
       "      <td>2</td>\n",
       "      <td>1</td>\n",
       "      <td>Month-to-month</td>\n",
       "      <td>1</td>\n",
       "      <td>Mailed check</td>\n",
       "      <td>53.85</td>\n",
       "      <td>108.15</td>\n",
       "      <td>1</td>\n",
       "      <td>0</td>\n",
       "      <td>0</td>\n",
       "      <td>...</td>\n",
       "      <td>0</td>\n",
       "      <td>1</td>\n",
       "      <td>0</td>\n",
       "      <td>0</td>\n",
       "      <td>0</td>\n",
       "      <td>1</td>\n",
       "      <td>0</td>\n",
       "      <td>0</td>\n",
       "      <td>0</td>\n",
       "      <td>1</td>\n",
       "    </tr>\n",
       "    <tr>\n",
       "      <th>3</th>\n",
       "      <td>45</td>\n",
       "      <td>0</td>\n",
       "      <td>One year</td>\n",
       "      <td>0</td>\n",
       "      <td>Bank transfer (automatic)</td>\n",
       "      <td>42.30</td>\n",
       "      <td>1840.75</td>\n",
       "      <td>0</td>\n",
       "      <td>0</td>\n",
       "      <td>0</td>\n",
       "      <td>...</td>\n",
       "      <td>0</td>\n",
       "      <td>0</td>\n",
       "      <td>1</td>\n",
       "      <td>0</td>\n",
       "      <td>1</td>\n",
       "      <td>0</td>\n",
       "      <td>1</td>\n",
       "      <td>0</td>\n",
       "      <td>0</td>\n",
       "      <td>0</td>\n",
       "    </tr>\n",
       "    <tr>\n",
       "      <th>4</th>\n",
       "      <td>2</td>\n",
       "      <td>1</td>\n",
       "      <td>Month-to-month</td>\n",
       "      <td>1</td>\n",
       "      <td>Electronic check</td>\n",
       "      <td>70.70</td>\n",
       "      <td>151.65</td>\n",
       "      <td>1</td>\n",
       "      <td>1</td>\n",
       "      <td>0</td>\n",
       "      <td>...</td>\n",
       "      <td>0</td>\n",
       "      <td>1</td>\n",
       "      <td>0</td>\n",
       "      <td>0</td>\n",
       "      <td>1</td>\n",
       "      <td>0</td>\n",
       "      <td>0</td>\n",
       "      <td>0</td>\n",
       "      <td>1</td>\n",
       "      <td>0</td>\n",
       "    </tr>\n",
       "  </tbody>\n",
       "</table>\n",
       "<p>5 rows × 43 columns</p>\n",
       "</div>"
      ],
      "text/plain": [
       "   tenure  PhoneService        Contract  PaperlessBilling  \\\n",
       "0       1             0  Month-to-month                 1   \n",
       "1      34             1        One year                 0   \n",
       "2       2             1  Month-to-month                 1   \n",
       "3      45             0        One year                 0   \n",
       "4       2             1  Month-to-month                 1   \n",
       "\n",
       "               PaymentMethod  MonthlyCharges  TotalCharges  Churn  gender  \\\n",
       "0           Electronic check           29.85         29.85      0       1   \n",
       "1               Mailed check           56.95       1889.50      0       0   \n",
       "2               Mailed check           53.85        108.15      1       0   \n",
       "3  Bank transfer (automatic)           42.30       1840.75      0       0   \n",
       "4           Electronic check           70.70        151.65      1       1   \n",
       "\n",
       "   SeniorCitizen  ...  StreamingMovies_Yes  Month-to-month One year Two year  \\\n",
       "0              0  ...                    0               1        0        0   \n",
       "1              0  ...                    0               0        1        0   \n",
       "2              0  ...                    0               1        0        0   \n",
       "3              0  ...                    0               0        1        0   \n",
       "4              0  ...                    0               1        0        0   \n",
       "\n",
       "  OnlineBackup_No OnlineBackup_Yes Bank transfer (automatic)  \\\n",
       "0               0                1                         0   \n",
       "1               1                0                         0   \n",
       "2               0                1                         0   \n",
       "3               1                0                         1   \n",
       "4               1                0                         0   \n",
       "\n",
       "  Credit card (automatic) Electronic check Mailed check  \n",
       "0                       0                1            0  \n",
       "1                       0                0            1  \n",
       "2                       0                0            1  \n",
       "3                       0                0            0  \n",
       "4                       0                1            0  \n",
       "\n",
       "[5 rows x 43 columns]"
      ]
     },
     "execution_count": 25,
     "metadata": {},
     "output_type": "execute_result"
    }
   ],
   "source": [
    "telecom.head()"
   ]
  },
  {
   "cell_type": "code",
   "execution_count": 26,
   "id": "c1047fd5-b8ee-4dc7-9abf-bc594fb29d09",
   "metadata": {},
   "outputs": [
    {
     "data": {
      "text/plain": [
       "Index(['tenure', 'PhoneService', 'Contract', 'PaperlessBilling',\n",
       "       'PaymentMethod', 'MonthlyCharges', 'TotalCharges', 'Churn', 'gender',\n",
       "       'SeniorCitizen', 'Partner', 'Dependents', 'MultipleLines',\n",
       "       'InternetService', 'OnlineSecurity', 'OnlineBackup', 'DeviceProtection',\n",
       "       'TechSupport', 'StreamingTV', 'StreamingMovies', 'MultipleLines_No',\n",
       "       'MultipleLines_Yes', 'DSL', 'Fiber optic', 'OnlineSecurity_No',\n",
       "       'OnlineSecurity_Yes', 'DeviceProtection_No', 'DeviceProtection_Yes',\n",
       "       'TechSupport_No', 'TechSupport_Yes', 'StreamingTV_No',\n",
       "       'StreamingTV_Yes', 'StreamingMovies_No', 'StreamingMovies_Yes',\n",
       "       'Month-to-month', 'One year', 'Two year', 'OnlineBackup_No',\n",
       "       'OnlineBackup_Yes', 'Bank transfer (automatic)',\n",
       "       'Credit card (automatic)', 'Electronic check', 'Mailed check'],\n",
       "      dtype='object')"
      ]
     },
     "execution_count": 26,
     "metadata": {},
     "output_type": "execute_result"
    }
   ],
   "source": [
    "telecom.columns"
   ]
  },
  {
   "cell_type": "code",
   "execution_count": 27,
   "id": "43942c42-cb23-4a68-b442-2665c06ad548",
   "metadata": {},
   "outputs": [],
   "source": [
    "telecom = telecom.drop(['MultipleLines', 'InternetService', 'OnlineSecurity','OnlineBackup', \n",
    "                              'DeviceProtection', 'TechSupport','StreamingTV', 'StreamingMovies'], axis=1)"
   ]
  },
  {
   "cell_type": "code",
   "execution_count": 28,
   "id": "0c04448c-d004-4820-9d2c-5c0e3b71fba5",
   "metadata": {},
   "outputs": [],
   "source": [
    "telecom= telecom.drop(['PaymentMethod', 'Contract',], axis=1)"
   ]
  },
  {
   "cell_type": "code",
   "execution_count": 29,
   "id": "e8012bf6-1abb-4978-be00-af4d5c66393b",
   "metadata": {
    "tags": []
   },
   "outputs": [
    {
     "data": {
      "text/plain": [
       "(7042, 33)"
      ]
     },
     "execution_count": 29,
     "metadata": {},
     "output_type": "execute_result"
    }
   ],
   "source": [
    "telecom.shape"
   ]
  },
  {
   "cell_type": "code",
   "execution_count": 30,
   "id": "32b1bb01-98af-4d73-b978-9177c739e465",
   "metadata": {},
   "outputs": [
    {
     "data": {
      "text/html": [
       "<div>\n",
       "<style scoped>\n",
       "    .dataframe tbody tr th:only-of-type {\n",
       "        vertical-align: middle;\n",
       "    }\n",
       "\n",
       "    .dataframe tbody tr th {\n",
       "        vertical-align: top;\n",
       "    }\n",
       "\n",
       "    .dataframe thead th {\n",
       "        text-align: right;\n",
       "    }\n",
       "</style>\n",
       "<table border=\"1\" class=\"dataframe\">\n",
       "  <thead>\n",
       "    <tr style=\"text-align: right;\">\n",
       "      <th></th>\n",
       "      <th>tenure</th>\n",
       "      <th>PhoneService</th>\n",
       "      <th>PaperlessBilling</th>\n",
       "      <th>MonthlyCharges</th>\n",
       "      <th>TotalCharges</th>\n",
       "      <th>Churn</th>\n",
       "      <th>gender</th>\n",
       "      <th>SeniorCitizen</th>\n",
       "      <th>Partner</th>\n",
       "      <th>Dependents</th>\n",
       "      <th>...</th>\n",
       "      <th>StreamingMovies_Yes</th>\n",
       "      <th>Month-to-month</th>\n",
       "      <th>One year</th>\n",
       "      <th>Two year</th>\n",
       "      <th>OnlineBackup_No</th>\n",
       "      <th>OnlineBackup_Yes</th>\n",
       "      <th>Bank transfer (automatic)</th>\n",
       "      <th>Credit card (automatic)</th>\n",
       "      <th>Electronic check</th>\n",
       "      <th>Mailed check</th>\n",
       "    </tr>\n",
       "  </thead>\n",
       "  <tbody>\n",
       "    <tr>\n",
       "      <th>0</th>\n",
       "      <td>1</td>\n",
       "      <td>0</td>\n",
       "      <td>1</td>\n",
       "      <td>29.85</td>\n",
       "      <td>29.85</td>\n",
       "      <td>0</td>\n",
       "      <td>1</td>\n",
       "      <td>0</td>\n",
       "      <td>1</td>\n",
       "      <td>0</td>\n",
       "      <td>...</td>\n",
       "      <td>0</td>\n",
       "      <td>1</td>\n",
       "      <td>0</td>\n",
       "      <td>0</td>\n",
       "      <td>0</td>\n",
       "      <td>1</td>\n",
       "      <td>0</td>\n",
       "      <td>0</td>\n",
       "      <td>1</td>\n",
       "      <td>0</td>\n",
       "    </tr>\n",
       "    <tr>\n",
       "      <th>1</th>\n",
       "      <td>34</td>\n",
       "      <td>1</td>\n",
       "      <td>0</td>\n",
       "      <td>56.95</td>\n",
       "      <td>1889.50</td>\n",
       "      <td>0</td>\n",
       "      <td>0</td>\n",
       "      <td>0</td>\n",
       "      <td>0</td>\n",
       "      <td>0</td>\n",
       "      <td>...</td>\n",
       "      <td>0</td>\n",
       "      <td>0</td>\n",
       "      <td>1</td>\n",
       "      <td>0</td>\n",
       "      <td>1</td>\n",
       "      <td>0</td>\n",
       "      <td>0</td>\n",
       "      <td>0</td>\n",
       "      <td>0</td>\n",
       "      <td>1</td>\n",
       "    </tr>\n",
       "    <tr>\n",
       "      <th>2</th>\n",
       "      <td>2</td>\n",
       "      <td>1</td>\n",
       "      <td>1</td>\n",
       "      <td>53.85</td>\n",
       "      <td>108.15</td>\n",
       "      <td>1</td>\n",
       "      <td>0</td>\n",
       "      <td>0</td>\n",
       "      <td>0</td>\n",
       "      <td>0</td>\n",
       "      <td>...</td>\n",
       "      <td>0</td>\n",
       "      <td>1</td>\n",
       "      <td>0</td>\n",
       "      <td>0</td>\n",
       "      <td>0</td>\n",
       "      <td>1</td>\n",
       "      <td>0</td>\n",
       "      <td>0</td>\n",
       "      <td>0</td>\n",
       "      <td>1</td>\n",
       "    </tr>\n",
       "    <tr>\n",
       "      <th>3</th>\n",
       "      <td>45</td>\n",
       "      <td>0</td>\n",
       "      <td>0</td>\n",
       "      <td>42.30</td>\n",
       "      <td>1840.75</td>\n",
       "      <td>0</td>\n",
       "      <td>0</td>\n",
       "      <td>0</td>\n",
       "      <td>0</td>\n",
       "      <td>0</td>\n",
       "      <td>...</td>\n",
       "      <td>0</td>\n",
       "      <td>0</td>\n",
       "      <td>1</td>\n",
       "      <td>0</td>\n",
       "      <td>1</td>\n",
       "      <td>0</td>\n",
       "      <td>1</td>\n",
       "      <td>0</td>\n",
       "      <td>0</td>\n",
       "      <td>0</td>\n",
       "    </tr>\n",
       "    <tr>\n",
       "      <th>4</th>\n",
       "      <td>2</td>\n",
       "      <td>1</td>\n",
       "      <td>1</td>\n",
       "      <td>70.70</td>\n",
       "      <td>151.65</td>\n",
       "      <td>1</td>\n",
       "      <td>1</td>\n",
       "      <td>0</td>\n",
       "      <td>0</td>\n",
       "      <td>0</td>\n",
       "      <td>...</td>\n",
       "      <td>0</td>\n",
       "      <td>1</td>\n",
       "      <td>0</td>\n",
       "      <td>0</td>\n",
       "      <td>1</td>\n",
       "      <td>0</td>\n",
       "      <td>0</td>\n",
       "      <td>0</td>\n",
       "      <td>1</td>\n",
       "      <td>0</td>\n",
       "    </tr>\n",
       "  </tbody>\n",
       "</table>\n",
       "<p>5 rows × 33 columns</p>\n",
       "</div>"
      ],
      "text/plain": [
       "   tenure  PhoneService  PaperlessBilling  MonthlyCharges  TotalCharges  \\\n",
       "0       1             0                 1           29.85         29.85   \n",
       "1      34             1                 0           56.95       1889.50   \n",
       "2       2             1                 1           53.85        108.15   \n",
       "3      45             0                 0           42.30       1840.75   \n",
       "4       2             1                 1           70.70        151.65   \n",
       "\n",
       "   Churn  gender  SeniorCitizen  Partner  Dependents  ...  \\\n",
       "0      0       1              0        1           0  ...   \n",
       "1      0       0              0        0           0  ...   \n",
       "2      1       0              0        0           0  ...   \n",
       "3      0       0              0        0           0  ...   \n",
       "4      1       1              0        0           0  ...   \n",
       "\n",
       "   StreamingMovies_Yes  Month-to-month  One year  Two year  OnlineBackup_No  \\\n",
       "0                    0               1         0         0                0   \n",
       "1                    0               0         1         0                1   \n",
       "2                    0               1         0         0                0   \n",
       "3                    0               0         1         0                1   \n",
       "4                    0               1         0         0                1   \n",
       "\n",
       "   OnlineBackup_Yes  Bank transfer (automatic)  Credit card (automatic)  \\\n",
       "0                 1                          0                        0   \n",
       "1                 0                          0                        0   \n",
       "2                 1                          0                        0   \n",
       "3                 0                          1                        0   \n",
       "4                 0                          0                        0   \n",
       "\n",
       "   Electronic check  Mailed check  \n",
       "0                 1             0  \n",
       "1                 0             1  \n",
       "2                 0             1  \n",
       "3                 0             0  \n",
       "4                 1             0  \n",
       "\n",
       "[5 rows x 33 columns]"
      ]
     },
     "execution_count": 30,
     "metadata": {},
     "output_type": "execute_result"
    }
   ],
   "source": [
    "telecom.head(5)"
   ]
  },
  {
   "cell_type": "markdown",
   "id": "c40589d5-8cfc-4dd3-b9ee-9466f624ec9d",
   "metadata": {},
   "source": [
    "# MODEL EĞİTİMİ "
   ]
  },
  {
   "cell_type": "code",
   "execution_count": 43,
   "id": "f94d6410-9eb9-4b99-911e-e311d0b9d142",
   "metadata": {},
   "outputs": [],
   "source": [
    "X = telecom.drop(['Churn'], axis=1)\n",
    "Y = telecom['Churn']"
   ]
  },
  {
   "cell_type": "code",
   "execution_count": 44,
   "id": "e33366c6-1afd-400a-a2d8-40ba6974a9c2",
   "metadata": {},
   "outputs": [],
   "source": [
    "X_train, X_test, y_train, y_test = train_test_split(X, Y, train_size=0.8, test_size=0.2, random_state = 100)\n"
   ]
  },
  {
   "cell_type": "code",
   "execution_count": 45,
   "id": "960aab41-86e5-4031-9b72-653033c02668",
   "metadata": {},
   "outputs": [],
   "source": [
    "import statsmodels.api as sm\n"
   ]
  },
  {
   "cell_type": "code",
   "execution_count": 46,
   "id": "9ead170d-d4ca-4508-90f4-56f846ae99f2",
   "metadata": {},
   "outputs": [],
   "source": [
    "def get_lrm(y_train, x_train):\n",
    "    lrm = sm.GLM(y_train, (sm.add_constant(x_train)), family = sm.families.Binomial())\n",
    "    lrm = lrm.fit()\n",
    "    print(lrm.summary())\n",
    "    return lrm"
   ]
  },
  {
   "cell_type": "code",
   "execution_count": 47,
   "id": "3af41ade-2e47-4154-913a-52a75a752a65",
   "metadata": {},
   "outputs": [
    {
     "name": "stdout",
     "output_type": "stream",
     "text": [
      "                 Generalized Linear Model Regression Results                  \n",
      "==============================================================================\n",
      "Dep. Variable:                  Churn   No. Observations:                 5633\n",
      "Model:                            GLM   Df Residuals:                     5609\n",
      "Model Family:                Binomial   Df Model:                           23\n",
      "Link Function:                  Logit   Scale:                          1.0000\n",
      "Method:                          IRLS   Log-Likelihood:                -2322.7\n",
      "Date:                Thu, 01 Jun 2023   Deviance:                       4645.4\n",
      "Time:                        08:41:39   Pearson chi2:                 6.38e+03\n",
      "No. Iterations:                     7   Pseudo R-squ. (CS):             0.2811\n",
      "Covariance Type:            nonrobust                                         \n",
      "=============================================================================================\n",
      "                                coef    std err          z      P>|z|      [0.025      0.975]\n",
      "---------------------------------------------------------------------------------------------\n",
      "const                        -0.8902      0.140     -6.340      0.000      -1.165      -0.615\n",
      "tenure                       -0.0532      0.007     -8.063      0.000      -0.066      -0.040\n",
      "PhoneService                  0.3252      0.540      0.602      0.547      -0.734       1.384\n",
      "PaperlessBilling              0.3468      0.084      4.143      0.000       0.183       0.511\n",
      "MonthlyCharges               -0.0411      0.035     -1.160      0.246      -0.111       0.028\n",
      "TotalCharges                  0.0003    7.6e-05      3.316      0.001       0.000       0.000\n",
      "gender                        0.0335      0.073      0.460      0.645      -0.109       0.176\n",
      "SeniorCitizen                 0.2698      0.095      2.853      0.004       0.084       0.455\n",
      "Partner                      -0.0249      0.087     -0.287      0.774      -0.195       0.145\n",
      "Dependents                   -0.1389      0.099     -1.397      0.163      -0.334       0.056\n",
      "MultipleLines_No             -0.0716      0.188     -0.381      0.703      -0.440       0.297\n",
      "MultipleLines_Yes             0.3967      0.361      1.100      0.271      -0.310       1.104\n",
      "DSL                          -0.4272      0.162     -2.642      0.008      -0.744      -0.110\n",
      "Fiber optic                   1.3524      0.735      1.839      0.066      -0.089       2.794\n",
      "OnlineSecurity_No             0.5305      0.209      2.542      0.011       0.122       0.939\n",
      "OnlineSecurity_Yes            0.3948      0.382      1.032      0.302      -0.355       1.144\n",
      "DeviceProtection_No           0.3698      0.208      1.777      0.076      -0.038       0.778\n",
      "DeviceProtection_Yes          0.5555      0.382      1.454      0.146      -0.193       1.304\n",
      "TechSupport_No                0.5921      0.208      2.850      0.004       0.185       0.999\n",
      "TechSupport_Yes               0.3332      0.384      0.869      0.385      -0.419       1.085\n",
      "StreamingTV_No                0.1603      0.124      1.294      0.196      -0.082       0.403\n",
      "StreamingTV_Yes               0.7650      0.470      1.627      0.104      -0.156       1.686\n",
      "StreamingMovies_No            0.1840      0.123      1.492      0.136      -0.058       0.426\n",
      "StreamingMovies_Yes           0.7413      0.471      1.575      0.115      -0.181       1.663\n",
      "Month-to-month                0.3724      0.084      4.455      0.000       0.209       0.536\n",
      "One year                     -0.3375      0.098     -3.447      0.001      -0.529      -0.146\n",
      "Two year                     -0.9251      0.138     -6.701      0.000      -1.196      -0.654\n",
      "OnlineBackup_No               0.4769      0.208      2.292      0.022       0.069       0.885\n",
      "OnlineBackup_Yes              0.4484      0.382      1.175      0.240      -0.300       1.196\n",
      "Bank transfer (automatic)    -0.2560      0.087     -2.952      0.003      -0.426      -0.086\n",
      "Credit card (automatic)      -0.3112      0.087     -3.560      0.000      -0.483      -0.140\n",
      "Electronic check              0.0347      0.069      0.502      0.616      -0.101       0.170\n",
      "Mailed check                 -0.3577      0.078     -4.578      0.000      -0.511      -0.205\n",
      "=============================================================================================\n"
     ]
    }
   ],
   "source": [
    "lrm_1 =get_lrm(y_train, X_train)\n"
   ]
  },
  {
   "cell_type": "code",
   "execution_count": 39,
   "id": "ffaa8007-bfcf-4684-845c-79adff0219aa",
   "metadata": {},
   "outputs": [],
   "source": [
    "from sklearn.linear_model import LogisticRegression\n",
    "loj_reg = LogisticRegression()"
   ]
  },
  {
   "cell_type": "code",
   "execution_count": 298,
   "id": "b75585a1-85e5-4b18-a0c5-63602eaf6823",
   "metadata": {},
   "outputs": [
    {
     "data": {
      "text/plain": [
       "LogisticRegression()"
      ]
     },
     "execution_count": 298,
     "metadata": {},
     "output_type": "execute_result"
    }
   ],
   "source": [
    "loj_reg.fit(X_train, y_train) \n"
   ]
  },
  {
   "cell_type": "code",
   "execution_count": 299,
   "id": "ddb8ed77-234a-4330-a9da-ca81f77fea5c",
   "metadata": {},
   "outputs": [
    {
     "data": {
      "text/plain": [
       "0.808450204154092"
      ]
     },
     "execution_count": 299,
     "metadata": {},
     "output_type": "execute_result"
    }
   ],
   "source": [
    "loj_reg.score(X_train, y_train) "
   ]
  },
  {
   "cell_type": "code",
   "execution_count": 300,
   "id": "9f59cae9-c008-4879-b239-ce1ca40399fb",
   "metadata": {},
   "outputs": [],
   "source": [
    "y_pred_loj = loj_reg.predict(X_test)"
   ]
  },
  {
   "cell_type": "code",
   "execution_count": 301,
   "id": "aa0a32e2-ec5d-4af2-a536-eed8d8396820",
   "metadata": {},
   "outputs": [],
   "source": [
    "def compute(ytest, ypred): \n",
    "\n",
    "    cm = confusion_matrix(ytest, ypred)\n",
    "    class_label = [\"true\", \"false\"]\n",
    "    class_label_2 = [\"positive\", \"negetive\"]\n",
    "    df_cm = pd.DataFrame(cm, index=class_label, columns=class_label_2)\n",
    "    sns.heatmap(df_cm, annot=True, cmap='coolwarm', linewidths=2, fmt='d')\n",
    "    plt.title(\"Confusion Matrix\", fontsize=15)\n",
    "    plt.xlabel(\"Predicted\")\n",
    "    plt.ylabel(\"True\")\n",
    "    plt.show()\n",
    "\n",
    "   \n",
    "    acc = accuracy_score(ytest, ypred)\n",
    "    mse = mean_squared_error(ytest, ypred)\n",
    "    precision, recall, fscore, train_support = score(ytest, ypred, pos_label=1, average='binary')\n",
    "    print('Precision: {} \\nRecall: {} \\nF1-Score: {} \\nAccuracy: {} %\\nMean Square Error: {}'.format(\n",
    "        round(precision, 3), round(recall, 3), round(fscore, 3), round((acc * 100), 3), round((mse), 3)))"
   ]
  },
  {
   "cell_type": "code",
   "execution_count": 302,
   "id": "2f7e9ef8-f994-4f12-aacb-a5727b270331",
   "metadata": {},
   "outputs": [
    {
     "data": {
      "image/png": "[encoded data removed]",
      "text/plain": [
       "<Figure size 432x288 with 2 Axes>"
      ]
     },
     "metadata": {
      "needs_background": "light"
     },
     "output_type": "display_data"
    },
    {
     "name": "stdout",
     "output_type": "stream",
     "text": [
      "Precision: 0.643 \n",
      "Recall: 0.549 \n",
      "F1-Score: 0.592 \n",
      "Accuracy: 79.56 %\n",
      "Mean Square Error: 0.204\n",
      "None\n"
     ]
    }
   ],
   "source": [
    "#LOJİSTİK REGRESYON BAŞARI METRİĞİ\n",
    "classify_eval = compute(y_test, loj_reg.predict(X_test))\n",
    "print(classify_eval)"
   ]
  },
  {
   "cell_type": "code",
   "execution_count": 303,
   "id": "7bd929de-50b8-4f2d-81cb-817d0f6dff88",
   "metadata": {},
   "outputs": [
    {
     "name": "stdout",
     "output_type": "stream",
     "text": [
      "ROC-AUC Score: 0.8378741689389995\n"
     ]
    }
   ],
   "source": [
    "# Farklı bir değerlendirme metriği olan ROC eğrisini çizdiriyorum.\n",
    "log_reg_optim_2 = LogisticRegression(random_state=1337, max_iter=500).fit(X_train, y_train)\n",
    "y_pred_proba = log_reg_optim_2.predict_proba(X_test)[:, 1] \n",
    "\n",
    "roc_auc_log = roc_auc_score(y_test, y_pred_proba)\n",
    "print(\"ROC-AUC Score:\", roc_auc_log)"
   ]
  },
  {
   "cell_type": "code",
   "execution_count": 304,
   "id": "86597273-7aa9-420e-b680-5869489ad4c4",
   "metadata": {},
   "outputs": [
    {
     "data": {
      "image/png": "[encoded data removed]",
      "text/plain": [
       "<Figure size 432x288 with 1 Axes>"
      ]
     },
     "metadata": {
      "needs_background": "light"
     },
     "output_type": "display_data"
    }
   ],
   "source": [
    "from sklearn.metrics import roc_curve, auc\n",
    "\n",
    "y_pred_proba = log_reg_optim_2.predict_proba(X_test)[:, 1]\n",
    "\n",
    "fpr, tpr, thresholds = roc_curve(y_test, y_pred_proba)\n",
    "\n",
    "roc_auc = auc(fpr, tpr)\n",
    "\n",
    "plt.plot(fpr, tpr, label='ROC curve (area = %0.2f)' % roc_auc)\n",
    "plt.plot([0, 1], [0, 1], 'k--') \n",
    "plt.xlabel('False Positive Rate')\n",
    "plt.ylabel('True Positive Rate')\n",
    "plt.title('Receiver Operating Characteristic (ROC) Curve')\n",
    "plt.legend(loc='lower right')\n",
    "plt.show()"
   ]
  },
  {
   "cell_type": "code",
   "execution_count": 357,
   "id": "40dd0687-22ed-4f4d-89bd-21cb8e722a91",
   "metadata": {},
   "outputs": [
    {
     "name": "stdout",
     "output_type": "stream",
     "text": [
      "Kesim Noktası (Eşik Değeri): 0.18995725061583987\n"
     ]
    }
   ],
   "source": [
    "# Kesim noktasını belirlendi\n",
    "optimal_idx = np.argmax(tpr - fpr)\n",
    "optimal_threshold = thresholds[optimal_idx]\n",
    "print(\"Kesim Noktası (Eşik Değeri):\", optimal_threshold)"
   ]
  },
  {
   "cell_type": "code",
   "execution_count": 412,
   "id": "c465d953-a456-428f-9200-95f865b2bef4",
   "metadata": {},
   "outputs": [
    {
     "name": "stdout",
     "output_type": "stream",
     "text": [
      "Tahmin Edilen Olasılık: [0.00811258 0.00308022 0.00910018 ... 0.70776125 0.20692062 0.03097091]\n"
     ]
    }
   ],
   "source": [
    "# deney birimi için tahmin edilen olasılıklar\n",
    "predicted_prob = loj_reg.predict_proba(X_test)[:, 1]\n",
    "print(\"Tahmin Edilen Olasılık:\", predicted_prob)"
   ]
  },
  {
   "cell_type": "markdown",
   "id": "bf4a05b4-b9d6-49a2-a04e-48f68320d592",
   "metadata": {},
   "source": [
    "# ODDS HESAPLAMA"
   ]
  },
  {
   "cell_type": "code",
   "execution_count": 355,
   "id": "1b3fe931-6163-4ac6-a383-00ef6928d6f7",
   "metadata": {},
   "outputs": [],
   "source": [
    "# Katsayıları ve oranlar\n",
    "katsayilar = model.coef_[0]\n",
    "odds = np.exp(coefficients)\n",
    "\n"
   ]
  },
  {
   "cell_type": "code",
   "execution_count": 356,
   "id": "cb41d424-2bc4-4766-8abb-cfcd7f3e95d4",
   "metadata": {},
   "outputs": [
    {
     "name": "stdout",
     "output_type": "stream",
     "text": [
      "Öznitelik 1: Katsayı = -0.0674, Odds_Ratio = 0.9348\n",
      "Öznitelik 2: Katsayı = -0.5063, Odds_Ratio = 0.6027\n",
      "Öznitelik 3: Katsayı = 0.3690, Odds_Ratio = 1.4463\n",
      "Öznitelik 4: Katsayı = 0.0031, Odds_Ratio = 1.0031\n",
      "Öznitelik 5: Katsayı = 0.0004, Odds_Ratio = 1.0004\n",
      "Öznitelik 6: Katsayı = 0.0115, Odds_Ratio = 1.0116\n",
      "Öznitelik 7: Katsayı = 0.2532, Odds_Ratio = 1.2881\n",
      "Öznitelik 8: Katsayı = -0.0092, Odds_Ratio = 0.9909\n",
      "Öznitelik 9: Katsayı = -0.2290, Odds_Ratio = 0.7953\n",
      "Öznitelik 10: Katsayı = -0.3235, Odds_Ratio = 0.7236\n",
      "Öznitelik 11: Katsayı = -0.1828, Odds_Ratio = 0.8330\n",
      "Öznitelik 12: Katsayı = -0.2697, Odds_Ratio = 0.7636\n",
      "Öznitelik 13: Katsayı = 0.3579, Odds_Ratio = 1.4303\n",
      "Öznitelik 14: Katsayı = 0.3072, Odds_Ratio = 1.3595\n",
      "Öznitelik 15: Katsayı = -0.2190, Odds_Ratio = 0.8033\n",
      "Öznitelik 16: Katsayı = 0.0790, Odds_Ratio = 1.0822\n",
      "Öznitelik 17: Katsayı = 0.0091, Odds_Ratio = 1.0091\n",
      "Öznitelik 18: Katsayı = 0.2986, Odds_Ratio = 1.3479\n",
      "Öznitelik 19: Katsayı = -0.2105, Odds_Ratio = 0.8102\n",
      "Öznitelik 20: Katsayı = -0.0485, Odds_Ratio = 0.9527\n",
      "Öznitelik 21: Katsayı = 0.1366, Odds_Ratio = 1.1464\n",
      "Öznitelik 22: Katsayı = -0.0521, Odds_Ratio = 0.9492\n",
      "Öznitelik 23: Katsayı = 0.1403, Odds_Ratio = 1.1506\n",
      "Öznitelik 24: Katsayı = 0.3336, Odds_Ratio = 1.3961\n",
      "Öznitelik 25: Katsayı = -0.2714, Odds_Ratio = 0.7623\n",
      "Öznitelik 26: Katsayı = -0.4683, Odds_Ratio = 0.6260\n",
      "Öznitelik 27: Katsayı = 0.1541, Odds_Ratio = 1.1666\n",
      "Öznitelik 28: Katsayı = -0.0659, Odds_Ratio = 0.9362\n",
      "Öznitelik 29: Katsayı = -0.1156, Odds_Ratio = 0.8908\n",
      "Öznitelik 30: Katsayı = -0.2044, Odds_Ratio = 0.8151\n",
      "Öznitelik 31: Katsayı = 0.2330, Odds_Ratio = 1.2624\n",
      "Öznitelik 32: Katsayı = -0.3190, Odds_Ratio = 0.7269\n"
     ]
    }
   ],
   "source": [
    "for i, katsayilar in enumerate(katsayilar):\n",
    "    print(\"Öznitelik {}: Katsayı = {:.4f}, Odds_Ratio = {:.4f}\".format(i+1, katsayilar, odds[i]))"
   ]
  },
  {
   "cell_type": "markdown",
   "id": "9c7a9def-4080-45f0-88be-77f4916a3e42",
   "metadata": {},
   "source": [
    "# VARYANS-COV MATRİSİ"
   ]
  },
  {
   "cell_type": "code",
   "execution_count": 310,
   "id": "5111fd78-1999-4a68-abbc-b3a888767c8f",
   "metadata": {},
   "outputs": [],
   "source": [
    "# Varyans-kovaryans matrisini hesaplama\n",
    "cov_matrix = np.cov(katsayilar.T)"
   ]
  },
  {
   "cell_type": "code",
   "execution_count": 311,
   "id": "521a79e2-3d4b-4f92-be46-0b8af8cd332b",
   "metadata": {},
   "outputs": [
    {
     "data": {
      "text/plain": [
       "array([[nan, nan, nan, ..., nan, nan, nan],\n",
       "       [nan, nan, nan, ..., nan, nan, nan],\n",
       "       [nan, nan, nan, ..., nan, nan, nan],\n",
       "       ...,\n",
       "       [nan, nan, nan, ..., nan, nan, nan],\n",
       "       [nan, nan, nan, ..., nan, nan, nan],\n",
       "       [nan, nan, nan, ..., nan, nan, nan]])"
      ]
     },
     "execution_count": 311,
     "metadata": {},
     "output_type": "execute_result"
    }
   ],
   "source": [
    "cov_matrix"
   ]
  },
  {
   "cell_type": "code",
   "execution_count": 312,
   "id": "219a0480-39a1-4eee-ac50-1fa324854487",
   "metadata": {},
   "outputs": [
    {
     "data": {
      "image/png": "[encoded data removed]",
      "text/plain": [
       "<Figure size 432x288 with 2 Axes>"
      ]
     },
     "metadata": {
      "needs_background": "light"
     },
     "output_type": "display_data"
    }
   ],
   "source": [
    "# Varyans-kovaryans matrisini görselleştirme\n",
    "sns.heatmap(cov_matrix, annot=True, cmap='coolwarm')\n",
    "plt.title('Varyans-Kovaryans Matrisi')\n",
    "plt.show()"
   ]
  },
  {
   "cell_type": "markdown",
   "id": "6a380086-1006-47e4-9be9-6a87b2291628",
   "metadata": {},
   "source": [
    "# AYKIRI DEĞERLER ÇIKARILARAK YENİ MODEL"
   ]
  },
  {
   "cell_type": "code",
   "execution_count": 31,
   "id": "edab9232-c0e6-4cf5-a67f-2f073a8cbba3",
   "metadata": {},
   "outputs": [],
   "source": [
    "telecom_copy = telecom.copy()\n"
   ]
  },
  {
   "cell_type": "code",
   "execution_count": 32,
   "id": "2fbe848c-1e59-4f12-b0cc-bd39add47ed2",
   "metadata": {},
   "outputs": [],
   "source": [
    "Q1 = telecom_copy['TotalCharges'].quantile(0.25)\n",
    "Q3 = telecom_copy['TotalCharges'].quantile(0.75)\n",
    "IQR = Q3 - Q1\n",
    "lower_bound = Q1 - 1.5 * IQR\n",
    "upper_bound = Q3 + 1.5 * IQR\n",
    "telecom_copy = telecom_copy[(telecom_copy['TotalCharges'] >= lower_bound) & (telecom_copy['TotalCharges'] <= upper_bound)]"
   ]
  },
  {
   "cell_type": "code",
   "execution_count": 33,
   "id": "c0327a32-07d8-4390-bf34-c8ebec638d6c",
   "metadata": {},
   "outputs": [],
   "source": [
    "Q1 = telecom_copy[\"MonthlyCharges\"].quantile(0.25)\n",
    "Q3 = telecom_copy[\"MonthlyCharges\"].quantile(0.75)\n",
    "IQR = Q3 - Q1\n",
    "lower_bound = Q1 - 1.5 * IQR\n",
    "upper_bound = Q3 + 1.5 * IQR\n",
    "telecom_copy = telecom_copy[(telecom_copy[\"MonthlyCharges\"] >= lower_bound) & (telecom_copy[\"MonthlyCharges\"] <= upper_bound)]"
   ]
  },
  {
   "cell_type": "code",
   "execution_count": 34,
   "id": "6676e71e-66ff-4e32-84d4-04c85678ce30",
   "metadata": {},
   "outputs": [],
   "source": [
    "Q1 = telecom_copy[\"tenure\"].quantile(0.25)\n",
    "Q3 = telecom_copy[\"tenure\"].quantile(0.75)\n",
    "IQR = Q3 - Q1\n",
    "lower_bound = Q1 - 1.5 * IQR\n",
    "upper_bound = Q3 + 1.5 * IQR\n",
    "telecom_copy = telecom_copy[(telecom_copy[\"tenure\"] >= lower_bound) & (telecom_copy[\"tenure\"] <= upper_bound)]"
   ]
  },
  {
   "cell_type": "code",
   "execution_count": 35,
   "id": "f7b7b1da-084e-4e8f-af18-f54521c65899",
   "metadata": {},
   "outputs": [],
   "source": [
    "X_yeni = telecom_copy.drop(['Churn'], axis=1)\n",
    "y_yeni = telecom_copy['Churn']"
   ]
  },
  {
   "cell_type": "code",
   "execution_count": 36,
   "id": "352264a4-d6b7-49e6-9926-fadbb1d477c2",
   "metadata": {},
   "outputs": [],
   "source": [
    "X_train_yeni, X_test_yeni, y_train_yeni, y_test_yeni = train_test_split(X_yeni, y_yeni, train_size=0.8, test_size=0.2, random_state = 100)"
   ]
  },
  {
   "cell_type": "code",
   "execution_count": 40,
   "id": "fd771cf7-6ce6-40d2-868e-31864fd4e39b",
   "metadata": {},
   "outputs": [],
   "source": [
    "# Lojistik regresyon modelini kurma\n",
    "new_model = LogisticRegression()\n"
   ]
  },
  {
   "cell_type": "code",
   "execution_count": 41,
   "id": "4b2ba51d-ef6a-4c66-b17e-a7359bc7c8ff",
   "metadata": {},
   "outputs": [
    {
     "data": {
      "text/plain": [
       "LogisticRegression()"
      ]
     },
     "execution_count": 41,
     "metadata": {},
     "output_type": "execute_result"
    }
   ],
   "source": [
    "new_model.fit(X_yeni, y_yeni)"
   ]
  },
  {
   "cell_type": "code",
   "execution_count": 48,
   "id": "9908a875-9846-417a-8baa-57edff04bd25",
   "metadata": {},
   "outputs": [
    {
     "data": {
      "text/plain": [
       "0.807030001775253"
      ]
     },
     "execution_count": 48,
     "metadata": {},
     "output_type": "execute_result"
    }
   ],
   "source": [
    "new_model.score(X_train_yeni, y_train_yeni) "
   ]
  },
  {
   "cell_type": "code",
   "execution_count": 50,
   "id": "fb77c350-5469-44dc-88ab-a2bf879145b9",
   "metadata": {},
   "outputs": [],
   "source": [
    "y_pred_loj_new = new_model.predict(X_test_yeni)"
   ]
  },
  {
   "cell_type": "code",
   "execution_count": 52,
   "id": "93731668-f526-4f58-a375-8f3d969e9254",
   "metadata": {},
   "outputs": [
    {
     "data": {
      "text/plain": [
       "array([0, 0, 0, ..., 1, 0, 0], dtype=int64)"
      ]
     },
     "execution_count": 52,
     "metadata": {},
     "output_type": "execute_result"
    }
   ],
   "source": [
    "y_pred_loj_new"
   ]
  },
  {
   "cell_type": "markdown",
   "id": "fba9548c-ace4-4b3a-ac82-d2d59d5aa673",
   "metadata": {},
   "source": [
    "# ROC EĞRİSİ"
   ]
  },
  {
   "cell_type": "code",
   "execution_count": 407,
   "id": "db443213-86b5-4072-98ef-5a969073e1fa",
   "metadata": {},
   "outputs": [
    {
     "name": "stdout",
     "output_type": "stream",
     "text": [
      "ROC-AUC Score: 0.8378741689389995\n"
     ]
    }
   ],
   "source": [
    "y_pred_loj_new = log_reg_optim_2.predict_proba(X_test_yeni)[:, 1]  \n",
    "\n",
    "roc_auc_log = roc_auc_score(y_test_yeni, y_pred_loj_new)\n",
    "print(\"ROC-AUC Score:\", roc_auc_log)"
   ]
  },
  {
   "cell_type": "code",
   "execution_count": 408,
   "id": "cfa1ae61-2f37-4cf4-93ca-190250047299",
   "metadata": {},
   "outputs": [
    {
     "data": {
      "image/png": "[encoded data removed]",
      "text/plain": [
       "<Figure size 432x288 with 1 Axes>"
      ]
     },
     "metadata": {
      "needs_background": "light"
     },
     "output_type": "display_data"
    }
   ],
   "source": [
    "from sklearn.metrics import roc_curve, auc\n",
    "\n",
    "fpr, tpr, thresholds = roc_curve(y_test_yeni, y_pred_loj_new)\n",
    "\n",
    "roc_auc = auc(fpr, tpr)\n",
    "\n",
    "\n",
    "plt.plot(fpr, tpr, label='ROC curve (area = %0.2f)' % roc_auc)\n",
    "plt.plot([0, 1], [0, 1], 'k--')  \n",
    "plt.xlabel('False Positive Rate')\n",
    "plt.ylabel('True Positive Rate')\n",
    "plt.title('Receiver Operating Characteristic (ROC) Curve')\n",
    "plt.legend(loc='lower right')\n",
    "plt.show()"
   ]
  },
  {
   "cell_type": "code",
   "execution_count": 409,
   "id": "1b9d5759-312b-4a1e-9876-572954ab4fc2",
   "metadata": {},
   "outputs": [
    {
     "name": "stdout",
     "output_type": "stream",
     "text": [
      "Kesim Noktası (Eşik Değeri): 0.18995725061583987\n"
     ]
    }
   ],
   "source": [
    "# Kesim noktasını belirlendi\n",
    "optimal_idx = np.argmax(tpr - fpr)\n",
    "optimal_threshold = thresholds[optimal_idx]\n",
    "print(\"Kesim Noktası (Eşik Değeri):\", optimal_threshold)"
   ]
  },
  {
   "cell_type": "code",
   "execution_count": 411,
   "id": "88bca1f4-9357-49cd-b487-b2169a9f62ca",
   "metadata": {},
   "outputs": [
    {
     "name": "stdout",
     "output_type": "stream",
     "text": [
      "Tahmin Edilen Olasılık: [0.0071643  0.00232004 0.00822161 ... 0.71440693 0.21048378 0.03517014]\n"
     ]
    }
   ],
   "source": [
    "# deney birimi için tahmin edilen olasılıklar\n",
    "predicted_prob = new_model.predict_proba(X_test_yeni)[:, 1]\n",
    "print(\"Tahmin Edilen Olasılık:\", predicted_prob)"
   ]
  },
  {
   "cell_type": "markdown",
   "id": "5a70ca50-7944-428f-916e-92941a47c576",
   "metadata": {},
   "source": [
    "# OR HESAPLAMA"
   ]
  },
  {
   "cell_type": "code",
   "execution_count": 413,
   "id": "46aa5da2-c0de-4ede-8cbd-d39b79ce9312",
   "metadata": {},
   "outputs": [],
   "source": [
    "# Katsayıları ve oranlar\n",
    "katsayilar = new_model.coef_[0]\n",
    "odds = np.exp(coefficients)\n"
   ]
  },
  {
   "cell_type": "code",
   "execution_count": 414,
   "id": "3e9f5a4b-1248-4003-aaab-9c203570eefc",
   "metadata": {},
   "outputs": [
    {
     "name": "stdout",
     "output_type": "stream",
     "text": [
      "Öznitelik 1: Katsayı = -0.0674, Odds_Ratio = 0.9348\n",
      "Öznitelik 2: Katsayı = -0.5063, Odds_Ratio = 0.6027\n",
      "Öznitelik 3: Katsayı = 0.3690, Odds_Ratio = 1.4463\n",
      "Öznitelik 4: Katsayı = 0.0031, Odds_Ratio = 1.0031\n",
      "Öznitelik 5: Katsayı = 0.0004, Odds_Ratio = 1.0004\n",
      "Öznitelik 6: Katsayı = 0.0115, Odds_Ratio = 1.0116\n",
      "Öznitelik 7: Katsayı = 0.2532, Odds_Ratio = 1.2881\n",
      "Öznitelik 8: Katsayı = -0.0092, Odds_Ratio = 0.9909\n",
      "Öznitelik 9: Katsayı = -0.2290, Odds_Ratio = 0.7953\n",
      "Öznitelik 10: Katsayı = -0.3235, Odds_Ratio = 0.7236\n",
      "Öznitelik 11: Katsayı = -0.1828, Odds_Ratio = 0.8330\n",
      "Öznitelik 12: Katsayı = -0.2697, Odds_Ratio = 0.7636\n",
      "Öznitelik 13: Katsayı = 0.3579, Odds_Ratio = 1.4303\n",
      "Öznitelik 14: Katsayı = 0.3072, Odds_Ratio = 1.3595\n",
      "Öznitelik 15: Katsayı = -0.2190, Odds_Ratio = 0.8033\n",
      "Öznitelik 16: Katsayı = 0.0790, Odds_Ratio = 1.0822\n",
      "Öznitelik 17: Katsayı = 0.0091, Odds_Ratio = 1.0091\n",
      "Öznitelik 18: Katsayı = 0.2986, Odds_Ratio = 1.3479\n",
      "Öznitelik 19: Katsayı = -0.2105, Odds_Ratio = 0.8102\n",
      "Öznitelik 20: Katsayı = -0.0485, Odds_Ratio = 0.9527\n",
      "Öznitelik 21: Katsayı = 0.1366, Odds_Ratio = 1.1464\n",
      "Öznitelik 22: Katsayı = -0.0521, Odds_Ratio = 0.9492\n",
      "Öznitelik 23: Katsayı = 0.1403, Odds_Ratio = 1.1506\n",
      "Öznitelik 24: Katsayı = 0.3336, Odds_Ratio = 1.3961\n",
      "Öznitelik 25: Katsayı = -0.2714, Odds_Ratio = 0.7623\n",
      "Öznitelik 26: Katsayı = -0.4683, Odds_Ratio = 0.6260\n",
      "Öznitelik 27: Katsayı = 0.1541, Odds_Ratio = 1.1666\n",
      "Öznitelik 28: Katsayı = -0.0659, Odds_Ratio = 0.9362\n",
      "Öznitelik 29: Katsayı = -0.1156, Odds_Ratio = 0.8908\n",
      "Öznitelik 30: Katsayı = -0.2044, Odds_Ratio = 0.8151\n",
      "Öznitelik 31: Katsayı = 0.2330, Odds_Ratio = 1.2624\n",
      "Öznitelik 32: Katsayı = -0.3190, Odds_Ratio = 0.7269\n"
     ]
    }
   ],
   "source": [
    "for i, katsayilar in enumerate(katsayilar):\n",
    "    print(\"Öznitelik {}: Katsayı = {:.4f}, Odds_Ratio = {:.4f}\".format(i+1, katsayilar, odds[i]))"
   ]
  },
  {
   "cell_type": "code",
   "execution_count": null,
   "id": "90cdfa8f-8d59-45ba-8d61-5f86b88e9690",
   "metadata": {},
   "outputs": [],
   "source": []
  },
  {
   "cell_type": "code",
   "execution_count": null,
   "id": "c57a0eef-794b-4ede-bca6-712918ecaaf9",
   "metadata": {},
   "outputs": [],
   "source": []
  },
  {
   "cell_type": "code",
   "execution_count": null,
   "id": "3e749254-4711-4835-ac8f-90fe04d7b695",
   "metadata": {},
   "outputs": [],
   "source": []
  }
 ],
 "metadata": {
  "kernelspec": {
   "display_name": "Python 3 (ipykernel)",
   "language": "python",
   "name": "python3"
  },
  "language_info": {
   "codemirror_mode": {
    "name": "ipython",
    "version": 3
   },
   "file_extension": ".py",
   "mimetype": "text/x-python",
   "name": "python",
   "nbconvert_exporter": "python",
   "pygments_lexer": "ipython3",
   "version": "3.9.12"
  }
 },
 "nbformat": 4,
 "nbformat_minor": 5
}
